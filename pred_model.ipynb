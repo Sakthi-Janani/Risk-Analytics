{
 "cells": [
  {
   "cell_type": "markdown",
   "id": "b27c9099-23df-49ea-aa27-d21f297815fd",
   "metadata": {},
   "source": [
    "## BFSI"
   ]
  },
  {
   "cell_type": "code",
   "execution_count": 1,
   "id": "45d2ae0e-ae1f-4106-be40-0d0b83693503",
   "metadata": {},
   "outputs": [],
   "source": [
    "import pandas as pd\n",
    "import numpy as np\n",
    "import matplotlib.pyplot as plt\n",
    "import seaborn as sns"
   ]
  },
  {
   "cell_type": "code",
   "execution_count": 2,
   "id": "44cc0519-4948-4a3e-95aa-24b07cdfb06f",
   "metadata": {},
   "outputs": [],
   "source": [
    "application_data= pd.read_csv('application_data.csv')\n",
    "previous_application_data= pd.read_csv('previous_application.csv')\n"
   ]
  },
  {
   "cell_type": "markdown",
   "id": "92d20d67-5d1e-4f45-964e-bfc7336b0b95",
   "metadata": {},
   "source": [
    "## Predictive Modeling"
   ]
  },
  {
   "cell_type": "code",
   "execution_count": null,
   "id": "bf547b56-f5fc-430b-9706-91c8c28e8331",
   "metadata": {},
   "outputs": [
    {
     "name": "stdout",
     "output_type": "stream",
     "text": [
      "<class 'pandas.core.frame.DataFrame'>\n",
      "RangeIndex: 307515 entries, 0 to 307514\n",
      "Data columns (total 122 columns):\n",
      " #    Column                        Dtype  \n",
      "---   ------                        -----  \n",
      " 0    SK_ID_CURR                    float64\n",
      " 1    TARGET                        float64\n",
      " 2    NAME_CONTRACT_TYPE            object \n",
      " 3    CODE_GENDER                   object \n",
      " 4    FLAG_OWN_CAR                  object \n",
      " 5    FLAG_OWN_REALTY               object \n",
      " 6    CNT_CHILDREN                  float64\n",
      " 7    AMT_INCOME_TOTAL              float64\n",
      " 8    AMT_CREDIT                    float64\n",
      " 9    AMT_ANNUITY                   float64\n",
      " 10   AMT_GOODS_PRICE               float64\n",
      " 11   NAME_TYPE_SUITE               object \n",
      " 12   NAME_INCOME_TYPE              object \n",
      " 13   NAME_EDUCATION_TYPE           object \n",
      " 14   NAME_FAMILY_STATUS            object \n",
      " 15   NAME_HOUSING_TYPE             object \n",
      " 16   REGION_POPULATION_RELATIVE    float64\n",
      " 17   DAYS_BIRTH                    float64\n",
      " 18   DAYS_EMPLOYED                 float64\n",
      " 19   DAYS_REGISTRATION             float64\n",
      " 20   DAYS_ID_PUBLISH               float64\n",
      " 21   OWN_CAR_AGE                   float64\n",
      " 22   FLAG_MOBIL                    float64\n",
      " 23   FLAG_EMP_PHONE                float64\n",
      " 24   FLAG_WORK_PHONE               float64\n",
      " 25   FLAG_CONT_MOBILE              float64\n",
      " 26   FLAG_PHONE                    float64\n",
      " 27   FLAG_EMAIL                    float64\n",
      " 28   OCCUPATION_TYPE               object \n",
      " 29   CNT_FAM_MEMBERS               float64\n",
      " 30   REGION_RATING_CLIENT          float64\n",
      " 31   REGION_RATING_CLIENT_W_CITY   float64\n",
      " 32   WEEKDAY_APPR_PROCESS_START    object \n",
      " 33   HOUR_APPR_PROCESS_START       float64\n",
      " 34   REG_REGION_NOT_LIVE_REGION    float64\n",
      " 35   REG_REGION_NOT_WORK_REGION    float64\n",
      " 36   LIVE_REGION_NOT_WORK_REGION   float64\n",
      " 37   REG_CITY_NOT_LIVE_CITY        float64\n",
      " 38   REG_CITY_NOT_WORK_CITY        float64\n",
      " 39   LIVE_CITY_NOT_WORK_CITY       float64\n",
      " 40   ORGANIZATION_TYPE             object \n",
      " 41   EXT_SOURCE_1                  float64\n",
      " 42   EXT_SOURCE_2                  float64\n",
      " 43   EXT_SOURCE_3                  float64\n",
      " 44   APARTMENTS_AVG                float64\n",
      " 45   BASEMENTAREA_AVG              float64\n",
      " 46   YEARS_BEGINEXPLUATATION_AVG   float64\n",
      " 47   YEARS_BUILD_AVG               float64\n",
      " 48   COMMONAREA_AVG                float64\n",
      " 49   ELEVATORS_AVG                 float64\n",
      " 50   ENTRANCES_AVG                 float64\n",
      " 51   FLOORSMAX_AVG                 float64\n",
      " 52   FLOORSMIN_AVG                 float64\n",
      " 53   LANDAREA_AVG                  float64\n",
      " 54   LIVINGAPARTMENTS_AVG          float64\n",
      " 55   LIVINGAREA_AVG                float64\n",
      " 56   NONLIVINGAPARTMENTS_AVG       float64\n",
      " 57   NONLIVINGAREA_AVG             float64\n",
      " 58   APARTMENTS_MODE               float64\n",
      " 59   BASEMENTAREA_MODE             float64\n",
      " 60   YEARS_BEGINEXPLUATATION_MODE  float64\n",
      " 61   YEARS_BUILD_MODE              float64\n",
      " 62   COMMONAREA_MODE               float64\n",
      " 63   ELEVATORS_MODE                float64\n",
      " 64   ENTRANCES_MODE                float64\n",
      " 65   FLOORSMAX_MODE                float64\n",
      " 66   FLOORSMIN_MODE                float64\n",
      " 67   LANDAREA_MODE                 float64\n",
      " 68   LIVINGAPARTMENTS_MODE         float64\n",
      " 69   LIVINGAREA_MODE               float64\n",
      " 70   NONLIVINGAPARTMENTS_MODE      float64\n",
      " 71   NONLIVINGAREA_MODE            float64\n",
      " 72   APARTMENTS_MEDI               float64\n",
      " 73   BASEMENTAREA_MEDI             float64\n",
      " 74   YEARS_BEGINEXPLUATATION_MEDI  float64\n",
      " 75   YEARS_BUILD_MEDI              float64\n",
      " 76   COMMONAREA_MEDI               float64\n",
      " 77   ELEVATORS_MEDI                float64\n",
      " 78   ENTRANCES_MEDI                float64\n",
      " 79   FLOORSMAX_MEDI                float64\n",
      " 80   FLOORSMIN_MEDI                float64\n",
      " 81   LANDAREA_MEDI                 float64\n",
      " 82   LIVINGAPARTMENTS_MEDI         float64\n",
      " 83   LIVINGAREA_MEDI               float64\n",
      " 84   NONLIVINGAPARTMENTS_MEDI      float64\n",
      " 85   NONLIVINGAREA_MEDI            float64\n",
      " 86   FONDKAPREMONT_MODE            object \n",
      " 87   HOUSETYPE_MODE                object \n",
      " 88   TOTALAREA_MODE                float64\n",
      " 89   WALLSMATERIAL_MODE            object \n",
      " 90   EMERGENCYSTATE_MODE           object \n",
      " 91   OBS_30_CNT_SOCIAL_CIRCLE      float64\n",
      " 92   DEF_30_CNT_SOCIAL_CIRCLE      float64\n",
      " 93   OBS_60_CNT_SOCIAL_CIRCLE      float64\n",
      " 94   DEF_60_CNT_SOCIAL_CIRCLE      float64\n",
      " 95   DAYS_LAST_PHONE_CHANGE        float64\n",
      " 96   FLAG_DOCUMENT_2               float64\n",
      " 97   FLAG_DOCUMENT_3               float64\n",
      " 98   FLAG_DOCUMENT_4               float64\n",
      " 99   FLAG_DOCUMENT_5               float64\n",
      " 100  FLAG_DOCUMENT_6               float64\n",
      " 101  FLAG_DOCUMENT_7               float64\n",
      " 102  FLAG_DOCUMENT_8               float64\n",
      " 103  FLAG_DOCUMENT_9               float64\n",
      " 104  FLAG_DOCUMENT_10              float64\n",
      " 105  FLAG_DOCUMENT_11              float64\n",
      " 106  FLAG_DOCUMENT_12              float64\n",
      " 107  FLAG_DOCUMENT_13              float64\n",
      " 108  FLAG_DOCUMENT_14              float64\n",
      " 109  FLAG_DOCUMENT_15              float64\n",
      " 110  FLAG_DOCUMENT_16              float64\n",
      " 111  FLAG_DOCUMENT_17              float64\n",
      " 112  FLAG_DOCUMENT_18              float64\n",
      " 113  FLAG_DOCUMENT_19              float64\n",
      " 114  FLAG_DOCUMENT_20              float64\n",
      " 115  FLAG_DOCUMENT_21              float64\n",
      " 116  AMT_REQ_CREDIT_BUREAU_HOUR    float64\n",
      " 117  AMT_REQ_CREDIT_BUREAU_DAY     float64\n",
      " 118  AMT_REQ_CREDIT_BUREAU_WEEK    float64\n",
      " 119  AMT_REQ_CREDIT_BUREAU_MON     float64\n",
      " 120  AMT_REQ_CREDIT_BUREAU_QRT     float64\n",
      " 121  AMT_REQ_CREDIT_BUREAU_YEAR    float64\n",
      "dtypes: float64(106), object(16)\n",
      "memory usage: 286.2+ MB\n"
     ]
    }
   ],
   "source": [
    "application_data.info(verbose=True)\n",
    "\n",
    "# verbose=True: When set to True, the method displays a detailed summary of the DataFrame, including information about each column (e.g., data type, number of non-null values) and a summary of the memory usage.\n",
    "\n",
    "# verbose=False: When set to False, the output will be less detailed, typically only showing the number of columns and their data types, without listing each column individually.\n",
    "\n",
    "# for better understanding run this code \n",
    "# application_data.info(verbose=False)"
   ]
  },
  {
   "cell_type": "code",
   "execution_count": null,
   "id": "556cba51-57ab-4a99-8c62-76f2d4df007c",
   "metadata": {},
   "outputs": [
    {
     "data": {
      "text/plain": [
       "TARGET\n",
       "0.0    91.927118\n",
       "1.0     8.072882\n",
       "Name: count, dtype: float64"
      ]
     },
     "execution_count": 4,
     "metadata": {},
     "output_type": "execute_result"
    }
   ],
   "source": [
    "target_distribution = application_data['TARGET'].value_counts()/application_data['TARGET'].count()*100\n",
    "target_distribution"
   ]
  },
  {
   "cell_type": "markdown",
   "id": "30d78c26-5953-46d5-831c-0c3a2b301483",
   "metadata": {},
   "source": [
    "- There is an imbalencing in the given data set so what we can do is we can make a balanced dataset for which the balance for 55/45 would be enough.\n",
    "- Recognizing class imbalance is essential for determining whether techniques such as resampling or employing balanced metrics are necessary to enhance model performance."
   ]
  },
  {
   "cell_type": "markdown",
   "id": "611df197-6a64-4380-a760-670af4acf79b",
   "metadata": {},
   "source": [
    "#### Create two distinct datasets for the target values [0/1], representing non-defaulters and defaulters."
   ]
  },
  {
   "cell_type": "code",
   "execution_count": 5,
   "id": "62813d3b-2cdf-44c0-be3f-dda5a08ca310",
   "metadata": {},
   "outputs": [
    {
     "data": {
      "text/plain": [
       "((282686, 122), (24825, 122))"
      ]
     },
     "execution_count": 5,
     "metadata": {},
     "output_type": "execute_result"
    }
   ],
   "source": [
    "non_defaulter=application_data[application_data['TARGET']==0]\n",
    "defaulter=application_data[application_data['TARGET']==1]\n",
    "\n",
    "\n",
    "non_defaulter.shape,defaulter.shape"
   ]
  },
  {
   "cell_type": "markdown",
   "id": "a4130cfa-c4c1-4c6e-a8ff-6379ec59915c",
   "metadata": {},
   "source": [
    "\n",
    "- This separation facilitates the analysis of each class's distribution and enables more effective management of class imbalance ."
   ]
  },
  {
   "cell_type": "markdown",
   "id": "72535a84-a022-49da-8711-18d4a9daefc1",
   "metadata": {},
   "source": [
    "#### Create the new dataset using sampled values"
   ]
  },
  {
   "cell_type": "code",
   "execution_count": 6,
   "id": "2041e0a4-5f54-4824-a1ea-cb1cc53cc907",
   "metadata": {},
   "outputs": [],
   "source": [
    "from sklearn.utils import resample\n",
    "\n",
    "down_sampled_non_defaulters = resample(non_defaulter, replace=False, n_samples=25000, random_state=42)\n",
    "down_sampled_defaulters = resample(defaulter, replace=False, n_samples=24000, random_state=42)\n"
   ]
  },
  {
   "cell_type": "markdown",
   "id": "640f60a6-ce71-488d-bd2d-03edb0da1851",
   "metadata": {},
   "source": [
    "- This step tackles class imbalance in the dataset, which can result in biased model predictions. By equalizing the sample sizes, we aim to create a more balanced dataset that enables the model to effectively learn patterns from both classes.y."
   ]
  },
  {
   "cell_type": "markdown",
   "id": "e7ef5af9-a634-4ebe-a3c7-3a148c3c9fb4",
   "metadata": {},
   "source": [
    "#### Checking the output"
   ]
  },
  {
   "cell_type": "code",
   "execution_count": 7,
   "id": "56b74993-993c-41ed-bde7-2c94b532b805",
   "metadata": {},
   "outputs": [
    {
     "data": {
      "text/plain": [
       "((24000, 122), (25000, 122))"
      ]
     },
     "execution_count": 7,
     "metadata": {},
     "output_type": "execute_result"
    }
   ],
   "source": [
    "down_sampled_defaulters.shape, down_sampled_non_defaulters.shape"
   ]
  },
  {
   "cell_type": "markdown",
   "id": "541b0f85-f137-4e93-aabc-b93bdd0ad76a",
   "metadata": {},
   "source": [
    "#### Creating a new, balanced dataset"
   ]
  },
  {
   "cell_type": "code",
   "execution_count": 8,
   "id": "3245d491-0143-452a-b0b5-63cfc937673c",
   "metadata": {},
   "outputs": [],
   "source": [
    "balanced_application= pd.concat([down_sampled_defaulters,down_sampled_non_defaulters])"
   ]
  },
  {
   "cell_type": "markdown",
   "id": "0781c4c5-86f9-4a26-81a0-ca1b9bbbde2f",
   "metadata": {},
   "source": [
    "#### Shuffeling the data "
   ]
  },
  {
   "cell_type": "code",
   "execution_count": 9,
   "id": "4c1b8bd2-8213-473a-8bdc-499e94b203de",
   "metadata": {},
   "outputs": [],
   "source": [
    "balanced_application = balanced_application.sample(frac=1, random_state=42).reset_index(drop=True) \n",
    "\n",
    "\n",
    "# frac=1 says that 100% of the data should be shuffles\n",
    "# reset_index(drop=true) says, while we are reordering the rows the original index of the values remains the same to reset them correcly we use reset_index and drop=true say to drop the previous index values completely"
   ]
  },
  {
   "cell_type": "code",
   "execution_count": 10,
   "id": "a9d55258-451c-495d-8239-d44ef44d85e0",
   "metadata": {},
   "outputs": [
    {
     "data": {
      "text/html": [
       "<div>\n",
       "<style scoped>\n",
       "    .dataframe tbody tr th:only-of-type {\n",
       "        vertical-align: middle;\n",
       "    }\n",
       "\n",
       "    .dataframe tbody tr th {\n",
       "        vertical-align: top;\n",
       "    }\n",
       "\n",
       "    .dataframe thead th {\n",
       "        text-align: right;\n",
       "    }\n",
       "</style>\n",
       "<table border=\"1\" class=\"dataframe\">\n",
       "  <thead>\n",
       "    <tr style=\"text-align: right;\">\n",
       "      <th></th>\n",
       "      <th>SK_ID_CURR</th>\n",
       "      <th>TARGET</th>\n",
       "      <th>NAME_CONTRACT_TYPE</th>\n",
       "      <th>CODE_GENDER</th>\n",
       "      <th>FLAG_OWN_CAR</th>\n",
       "      <th>FLAG_OWN_REALTY</th>\n",
       "      <th>CNT_CHILDREN</th>\n",
       "      <th>AMT_INCOME_TOTAL</th>\n",
       "      <th>AMT_CREDIT</th>\n",
       "      <th>AMT_ANNUITY</th>\n",
       "      <th>...</th>\n",
       "      <th>FLAG_DOCUMENT_18</th>\n",
       "      <th>FLAG_DOCUMENT_19</th>\n",
       "      <th>FLAG_DOCUMENT_20</th>\n",
       "      <th>FLAG_DOCUMENT_21</th>\n",
       "      <th>AMT_REQ_CREDIT_BUREAU_HOUR</th>\n",
       "      <th>AMT_REQ_CREDIT_BUREAU_DAY</th>\n",
       "      <th>AMT_REQ_CREDIT_BUREAU_WEEK</th>\n",
       "      <th>AMT_REQ_CREDIT_BUREAU_MON</th>\n",
       "      <th>AMT_REQ_CREDIT_BUREAU_QRT</th>\n",
       "      <th>AMT_REQ_CREDIT_BUREAU_YEAR</th>\n",
       "    </tr>\n",
       "  </thead>\n",
       "  <tbody>\n",
       "    <tr>\n",
       "      <th>0</th>\n",
       "      <td>196491.0</td>\n",
       "      <td>0.0</td>\n",
       "      <td>Cash loans</td>\n",
       "      <td>F</td>\n",
       "      <td>Y</td>\n",
       "      <td>N</td>\n",
       "      <td>1.0</td>\n",
       "      <td>180000.0</td>\n",
       "      <td>797557.5</td>\n",
       "      <td>26487.0</td>\n",
       "      <td>...</td>\n",
       "      <td>0.0</td>\n",
       "      <td>0.0</td>\n",
       "      <td>0.0</td>\n",
       "      <td>0.0</td>\n",
       "      <td>0.0</td>\n",
       "      <td>0.0</td>\n",
       "      <td>0.0</td>\n",
       "      <td>0.0</td>\n",
       "      <td>0.0</td>\n",
       "      <td>1.0</td>\n",
       "    </tr>\n",
       "    <tr>\n",
       "      <th>1</th>\n",
       "      <td>178011.0</td>\n",
       "      <td>0.0</td>\n",
       "      <td>Cash loans</td>\n",
       "      <td>M</td>\n",
       "      <td>Y</td>\n",
       "      <td>Y</td>\n",
       "      <td>1.0</td>\n",
       "      <td>180000.0</td>\n",
       "      <td>521280.0</td>\n",
       "      <td>28408.5</td>\n",
       "      <td>...</td>\n",
       "      <td>0.0</td>\n",
       "      <td>0.0</td>\n",
       "      <td>0.0</td>\n",
       "      <td>0.0</td>\n",
       "      <td>0.0</td>\n",
       "      <td>0.0</td>\n",
       "      <td>0.0</td>\n",
       "      <td>0.0</td>\n",
       "      <td>2.0</td>\n",
       "      <td>1.0</td>\n",
       "    </tr>\n",
       "    <tr>\n",
       "      <th>2</th>\n",
       "      <td>170702.0</td>\n",
       "      <td>0.0</td>\n",
       "      <td>Cash loans</td>\n",
       "      <td>F</td>\n",
       "      <td>N</td>\n",
       "      <td>Y</td>\n",
       "      <td>0.0</td>\n",
       "      <td>171000.0</td>\n",
       "      <td>312768.0</td>\n",
       "      <td>24691.5</td>\n",
       "      <td>...</td>\n",
       "      <td>0.0</td>\n",
       "      <td>0.0</td>\n",
       "      <td>0.0</td>\n",
       "      <td>0.0</td>\n",
       "      <td>0.0</td>\n",
       "      <td>0.0</td>\n",
       "      <td>0.0</td>\n",
       "      <td>0.0</td>\n",
       "      <td>0.0</td>\n",
       "      <td>5.0</td>\n",
       "    </tr>\n",
       "    <tr>\n",
       "      <th>3</th>\n",
       "      <td>106289.0</td>\n",
       "      <td>0.0</td>\n",
       "      <td>Cash loans</td>\n",
       "      <td>F</td>\n",
       "      <td>N</td>\n",
       "      <td>Y</td>\n",
       "      <td>0.0</td>\n",
       "      <td>33300.0</td>\n",
       "      <td>359685.0</td>\n",
       "      <td>15237.0</td>\n",
       "      <td>...</td>\n",
       "      <td>0.0</td>\n",
       "      <td>0.0</td>\n",
       "      <td>0.0</td>\n",
       "      <td>0.0</td>\n",
       "      <td>NaN</td>\n",
       "      <td>NaN</td>\n",
       "      <td>NaN</td>\n",
       "      <td>NaN</td>\n",
       "      <td>NaN</td>\n",
       "      <td>NaN</td>\n",
       "    </tr>\n",
       "    <tr>\n",
       "      <th>4</th>\n",
       "      <td>269366.0</td>\n",
       "      <td>1.0</td>\n",
       "      <td>Cash loans</td>\n",
       "      <td>M</td>\n",
       "      <td>Y</td>\n",
       "      <td>N</td>\n",
       "      <td>2.0</td>\n",
       "      <td>135000.0</td>\n",
       "      <td>1442952.0</td>\n",
       "      <td>39811.5</td>\n",
       "      <td>...</td>\n",
       "      <td>0.0</td>\n",
       "      <td>0.0</td>\n",
       "      <td>0.0</td>\n",
       "      <td>0.0</td>\n",
       "      <td>0.0</td>\n",
       "      <td>0.0</td>\n",
       "      <td>0.0</td>\n",
       "      <td>0.0</td>\n",
       "      <td>0.0</td>\n",
       "      <td>2.0</td>\n",
       "    </tr>\n",
       "    <tr>\n",
       "      <th>...</th>\n",
       "      <td>...</td>\n",
       "      <td>...</td>\n",
       "      <td>...</td>\n",
       "      <td>...</td>\n",
       "      <td>...</td>\n",
       "      <td>...</td>\n",
       "      <td>...</td>\n",
       "      <td>...</td>\n",
       "      <td>...</td>\n",
       "      <td>...</td>\n",
       "      <td>...</td>\n",
       "      <td>...</td>\n",
       "      <td>...</td>\n",
       "      <td>...</td>\n",
       "      <td>...</td>\n",
       "      <td>...</td>\n",
       "      <td>...</td>\n",
       "      <td>...</td>\n",
       "      <td>...</td>\n",
       "      <td>...</td>\n",
       "      <td>...</td>\n",
       "    </tr>\n",
       "    <tr>\n",
       "      <th>48995</th>\n",
       "      <td>430408.0</td>\n",
       "      <td>1.0</td>\n",
       "      <td>Cash loans</td>\n",
       "      <td>F</td>\n",
       "      <td>N</td>\n",
       "      <td>Y</td>\n",
       "      <td>0.0</td>\n",
       "      <td>153000.0</td>\n",
       "      <td>1442952.0</td>\n",
       "      <td>39681.0</td>\n",
       "      <td>...</td>\n",
       "      <td>0.0</td>\n",
       "      <td>0.0</td>\n",
       "      <td>0.0</td>\n",
       "      <td>0.0</td>\n",
       "      <td>0.0</td>\n",
       "      <td>0.0</td>\n",
       "      <td>0.0</td>\n",
       "      <td>0.0</td>\n",
       "      <td>0.0</td>\n",
       "      <td>4.0</td>\n",
       "    </tr>\n",
       "    <tr>\n",
       "      <th>48996</th>\n",
       "      <td>351828.0</td>\n",
       "      <td>0.0</td>\n",
       "      <td>Cash loans</td>\n",
       "      <td>F</td>\n",
       "      <td>Y</td>\n",
       "      <td>Y</td>\n",
       "      <td>0.0</td>\n",
       "      <td>157500.0</td>\n",
       "      <td>1185120.0</td>\n",
       "      <td>36063.0</td>\n",
       "      <td>...</td>\n",
       "      <td>0.0</td>\n",
       "      <td>0.0</td>\n",
       "      <td>0.0</td>\n",
       "      <td>0.0</td>\n",
       "      <td>0.0</td>\n",
       "      <td>0.0</td>\n",
       "      <td>0.0</td>\n",
       "      <td>0.0</td>\n",
       "      <td>1.0</td>\n",
       "      <td>1.0</td>\n",
       "    </tr>\n",
       "    <tr>\n",
       "      <th>48997</th>\n",
       "      <td>212652.0</td>\n",
       "      <td>0.0</td>\n",
       "      <td>Cash loans</td>\n",
       "      <td>F</td>\n",
       "      <td>N</td>\n",
       "      <td>N</td>\n",
       "      <td>0.0</td>\n",
       "      <td>135000.0</td>\n",
       "      <td>540360.0</td>\n",
       "      <td>14382.0</td>\n",
       "      <td>...</td>\n",
       "      <td>0.0</td>\n",
       "      <td>0.0</td>\n",
       "      <td>0.0</td>\n",
       "      <td>0.0</td>\n",
       "      <td>0.0</td>\n",
       "      <td>0.0</td>\n",
       "      <td>0.0</td>\n",
       "      <td>0.0</td>\n",
       "      <td>0.0</td>\n",
       "      <td>0.0</td>\n",
       "    </tr>\n",
       "    <tr>\n",
       "      <th>48998</th>\n",
       "      <td>140608.0</td>\n",
       "      <td>1.0</td>\n",
       "      <td>Cash loans</td>\n",
       "      <td>M</td>\n",
       "      <td>Y</td>\n",
       "      <td>Y</td>\n",
       "      <td>0.0</td>\n",
       "      <td>247500.0</td>\n",
       "      <td>640080.0</td>\n",
       "      <td>29970.0</td>\n",
       "      <td>...</td>\n",
       "      <td>0.0</td>\n",
       "      <td>0.0</td>\n",
       "      <td>0.0</td>\n",
       "      <td>0.0</td>\n",
       "      <td>0.0</td>\n",
       "      <td>0.0</td>\n",
       "      <td>0.0</td>\n",
       "      <td>1.0</td>\n",
       "      <td>0.0</td>\n",
       "      <td>0.0</td>\n",
       "    </tr>\n",
       "    <tr>\n",
       "      <th>48999</th>\n",
       "      <td>452415.0</td>\n",
       "      <td>1.0</td>\n",
       "      <td>Cash loans</td>\n",
       "      <td>M</td>\n",
       "      <td>N</td>\n",
       "      <td>Y</td>\n",
       "      <td>0.0</td>\n",
       "      <td>135000.0</td>\n",
       "      <td>272578.5</td>\n",
       "      <td>21663.0</td>\n",
       "      <td>...</td>\n",
       "      <td>0.0</td>\n",
       "      <td>0.0</td>\n",
       "      <td>0.0</td>\n",
       "      <td>0.0</td>\n",
       "      <td>0.0</td>\n",
       "      <td>0.0</td>\n",
       "      <td>0.0</td>\n",
       "      <td>0.0</td>\n",
       "      <td>0.0</td>\n",
       "      <td>6.0</td>\n",
       "    </tr>\n",
       "  </tbody>\n",
       "</table>\n",
       "<p>49000 rows × 122 columns</p>\n",
       "</div>"
      ],
      "text/plain": [
       "       SK_ID_CURR  TARGET NAME_CONTRACT_TYPE CODE_GENDER FLAG_OWN_CAR  \\\n",
       "0        196491.0     0.0         Cash loans           F            Y   \n",
       "1        178011.0     0.0         Cash loans           M            Y   \n",
       "2        170702.0     0.0         Cash loans           F            N   \n",
       "3        106289.0     0.0         Cash loans           F            N   \n",
       "4        269366.0     1.0         Cash loans           M            Y   \n",
       "...           ...     ...                ...         ...          ...   \n",
       "48995    430408.0     1.0         Cash loans           F            N   \n",
       "48996    351828.0     0.0         Cash loans           F            Y   \n",
       "48997    212652.0     0.0         Cash loans           F            N   \n",
       "48998    140608.0     1.0         Cash loans           M            Y   \n",
       "48999    452415.0     1.0         Cash loans           M            N   \n",
       "\n",
       "      FLAG_OWN_REALTY  CNT_CHILDREN  AMT_INCOME_TOTAL  AMT_CREDIT  \\\n",
       "0                   N           1.0          180000.0    797557.5   \n",
       "1                   Y           1.0          180000.0    521280.0   \n",
       "2                   Y           0.0          171000.0    312768.0   \n",
       "3                   Y           0.0           33300.0    359685.0   \n",
       "4                   N           2.0          135000.0   1442952.0   \n",
       "...               ...           ...               ...         ...   \n",
       "48995               Y           0.0          153000.0   1442952.0   \n",
       "48996               Y           0.0          157500.0   1185120.0   \n",
       "48997               N           0.0          135000.0    540360.0   \n",
       "48998               Y           0.0          247500.0    640080.0   \n",
       "48999               Y           0.0          135000.0    272578.5   \n",
       "\n",
       "       AMT_ANNUITY  ...  FLAG_DOCUMENT_18 FLAG_DOCUMENT_19 FLAG_DOCUMENT_20  \\\n",
       "0          26487.0  ...               0.0              0.0              0.0   \n",
       "1          28408.5  ...               0.0              0.0              0.0   \n",
       "2          24691.5  ...               0.0              0.0              0.0   \n",
       "3          15237.0  ...               0.0              0.0              0.0   \n",
       "4          39811.5  ...               0.0              0.0              0.0   \n",
       "...            ...  ...               ...              ...              ...   \n",
       "48995      39681.0  ...               0.0              0.0              0.0   \n",
       "48996      36063.0  ...               0.0              0.0              0.0   \n",
       "48997      14382.0  ...               0.0              0.0              0.0   \n",
       "48998      29970.0  ...               0.0              0.0              0.0   \n",
       "48999      21663.0  ...               0.0              0.0              0.0   \n",
       "\n",
       "      FLAG_DOCUMENT_21 AMT_REQ_CREDIT_BUREAU_HOUR AMT_REQ_CREDIT_BUREAU_DAY  \\\n",
       "0                  0.0                        0.0                       0.0   \n",
       "1                  0.0                        0.0                       0.0   \n",
       "2                  0.0                        0.0                       0.0   \n",
       "3                  0.0                        NaN                       NaN   \n",
       "4                  0.0                        0.0                       0.0   \n",
       "...                ...                        ...                       ...   \n",
       "48995              0.0                        0.0                       0.0   \n",
       "48996              0.0                        0.0                       0.0   \n",
       "48997              0.0                        0.0                       0.0   \n",
       "48998              0.0                        0.0                       0.0   \n",
       "48999              0.0                        0.0                       0.0   \n",
       "\n",
       "       AMT_REQ_CREDIT_BUREAU_WEEK  AMT_REQ_CREDIT_BUREAU_MON  \\\n",
       "0                             0.0                        0.0   \n",
       "1                             0.0                        0.0   \n",
       "2                             0.0                        0.0   \n",
       "3                             NaN                        NaN   \n",
       "4                             0.0                        0.0   \n",
       "...                           ...                        ...   \n",
       "48995                         0.0                        0.0   \n",
       "48996                         0.0                        0.0   \n",
       "48997                         0.0                        0.0   \n",
       "48998                         0.0                        1.0   \n",
       "48999                         0.0                        0.0   \n",
       "\n",
       "       AMT_REQ_CREDIT_BUREAU_QRT  AMT_REQ_CREDIT_BUREAU_YEAR  \n",
       "0                            0.0                         1.0  \n",
       "1                            2.0                         1.0  \n",
       "2                            0.0                         5.0  \n",
       "3                            NaN                         NaN  \n",
       "4                            0.0                         2.0  \n",
       "...                          ...                         ...  \n",
       "48995                        0.0                         4.0  \n",
       "48996                        1.0                         1.0  \n",
       "48997                        0.0                         0.0  \n",
       "48998                        0.0                         0.0  \n",
       "48999                        0.0                         6.0  \n",
       "\n",
       "[49000 rows x 122 columns]"
      ]
     },
     "execution_count": 10,
     "metadata": {},
     "output_type": "execute_result"
    }
   ],
   "source": [
    "balanced_application"
   ]
  },
  {
   "cell_type": "markdown",
   "id": "5840264d-175a-4166-ab5e-8061cf7e8fc3",
   "metadata": {},
   "source": [
    "#### Now that the dataset is balanced, we can proceed with feature selection."
   ]
  },
  {
   "cell_type": "markdown",
   "id": "0c78cc73-72da-4ab7-b31c-7e910f50f9ff",
   "metadata": {},
   "source": [
    "##### Checking for the null values "
   ]
  },
  {
   "cell_type": "code",
   "execution_count": 11,
   "id": "b01cc736-52b6-4729-96bc-ee9ec0068161",
   "metadata": {},
   "outputs": [
    {
     "data": {
      "text/plain": [
       "SK_ID_CURR                       0\n",
       "TARGET                           0\n",
       "NAME_CONTRACT_TYPE               0\n",
       "CODE_GENDER                      0\n",
       "FLAG_OWN_CAR                     0\n",
       "                              ... \n",
       "AMT_REQ_CREDIT_BUREAU_DAY     7484\n",
       "AMT_REQ_CREDIT_BUREAU_WEEK    7484\n",
       "AMT_REQ_CREDIT_BUREAU_MON     7484\n",
       "AMT_REQ_CREDIT_BUREAU_QRT     7484\n",
       "AMT_REQ_CREDIT_BUREAU_YEAR    7484\n",
       "Length: 122, dtype: int64"
      ]
     },
     "execution_count": 11,
     "metadata": {},
     "output_type": "execute_result"
    }
   ],
   "source": [
    "balanced_application.isnull().sum()"
   ]
  },
  {
   "cell_type": "code",
   "execution_count": 17,
   "id": "a509a4ce-1624-4dbf-9916-d1bf45e825aa",
   "metadata": {},
   "outputs": [
    {
     "data": {
      "text/plain": [
       "<Figure size 1600x800 with 0 Axes>"
      ]
     },
     "execution_count": 17,
     "metadata": {},
     "output_type": "execute_result"
    },
    {
     "data": {
      "image/png": "[encoded data removed]",
      "text/plain": [
       "<Figure size 640x480 with 1 Axes>"
      ]
     },
     "metadata": {},
     "output_type": "display_data"
    },
    {
     "data": {
      "text/plain": [
       "<Figure size 1600x800 with 0 Axes>"
      ]
     },
     "metadata": {},
     "output_type": "display_data"
    }
   ],
   "source": [
    "missing = pd.DataFrame((balanced_application.isnull().sum())*100/balanced_application.shape[0]).reset_index()\n",
    "missing = missing.rename(columns={0:\"missing_per\"})\n",
    "missing.plot(kind='line')\n",
    "plt.figure(figsize=(16,8))"
   ]
  },
  {
   "cell_type": "code",
   "execution_count": 18,
   "id": "fb2ad4b5",
   "metadata": {},
   "outputs": [
    {
     "data": {
      "text/html": [
       "<div>\n",
       "<style scoped>\n",
       "    .dataframe tbody tr th:only-of-type {\n",
       "        vertical-align: middle;\n",
       "    }\n",
       "\n",
       "    .dataframe tbody tr th {\n",
       "        vertical-align: top;\n",
       "    }\n",
       "\n",
       "    .dataframe thead th {\n",
       "        text-align: right;\n",
       "    }\n",
       "</style>\n",
       "<table border=\"1\" class=\"dataframe\">\n",
       "  <thead>\n",
       "    <tr style=\"text-align: right;\">\n",
       "      <th></th>\n",
       "      <th>index</th>\n",
       "      <th>missing_per</th>\n",
       "    </tr>\n",
       "  </thead>\n",
       "  <tbody>\n",
       "    <tr>\n",
       "      <th>21</th>\n",
       "      <td>OWN_CAR_AGE</td>\n",
       "      <td>67.610204</td>\n",
       "    </tr>\n",
       "    <tr>\n",
       "      <th>41</th>\n",
       "      <td>EXT_SOURCE_1</td>\n",
       "      <td>57.736735</td>\n",
       "    </tr>\n",
       "    <tr>\n",
       "      <th>44</th>\n",
       "      <td>APARTMENTS_AVG</td>\n",
       "      <td>53.626531</td>\n",
       "    </tr>\n",
       "    <tr>\n",
       "      <th>45</th>\n",
       "      <td>BASEMENTAREA_AVG</td>\n",
       "      <td>61.059184</td>\n",
       "    </tr>\n",
       "    <tr>\n",
       "      <th>46</th>\n",
       "      <td>YEARS_BEGINEXPLUATATION_AVG</td>\n",
       "      <td>51.712245</td>\n",
       "    </tr>\n",
       "    <tr>\n",
       "      <th>47</th>\n",
       "      <td>YEARS_BUILD_AVG</td>\n",
       "      <td>68.738776</td>\n",
       "    </tr>\n",
       "    <tr>\n",
       "      <th>48</th>\n",
       "      <td>COMMONAREA_AVG</td>\n",
       "      <td>71.844898</td>\n",
       "    </tr>\n",
       "    <tr>\n",
       "      <th>49</th>\n",
       "      <td>ELEVATORS_AVG</td>\n",
       "      <td>56.157143</td>\n",
       "    </tr>\n",
       "    <tr>\n",
       "      <th>50</th>\n",
       "      <td>ENTRANCES_AVG</td>\n",
       "      <td>53.242857</td>\n",
       "    </tr>\n",
       "    <tr>\n",
       "      <th>51</th>\n",
       "      <td>FLOORSMAX_AVG</td>\n",
       "      <td>52.671429</td>\n",
       "    </tr>\n",
       "    <tr>\n",
       "      <th>52</th>\n",
       "      <td>FLOORSMIN_AVG</td>\n",
       "      <td>69.938776</td>\n",
       "    </tr>\n",
       "    <tr>\n",
       "      <th>53</th>\n",
       "      <td>LANDAREA_AVG</td>\n",
       "      <td>61.661224</td>\n",
       "    </tr>\n",
       "    <tr>\n",
       "      <th>54</th>\n",
       "      <td>LIVINGAPARTMENTS_AVG</td>\n",
       "      <td>70.506122</td>\n",
       "    </tr>\n",
       "    <tr>\n",
       "      <th>55</th>\n",
       "      <td>LIVINGAREA_AVG</td>\n",
       "      <td>53.028571</td>\n",
       "    </tr>\n",
       "    <tr>\n",
       "      <th>56</th>\n",
       "      <td>NONLIVINGAPARTMENTS_AVG</td>\n",
       "      <td>71.391837</td>\n",
       "    </tr>\n",
       "    <tr>\n",
       "      <th>57</th>\n",
       "      <td>NONLIVINGAREA_AVG</td>\n",
       "      <td>57.930612</td>\n",
       "    </tr>\n",
       "    <tr>\n",
       "      <th>58</th>\n",
       "      <td>APARTMENTS_MODE</td>\n",
       "      <td>53.626531</td>\n",
       "    </tr>\n",
       "    <tr>\n",
       "      <th>59</th>\n",
       "      <td>BASEMENTAREA_MODE</td>\n",
       "      <td>61.059184</td>\n",
       "    </tr>\n",
       "    <tr>\n",
       "      <th>60</th>\n",
       "      <td>YEARS_BEGINEXPLUATATION_MODE</td>\n",
       "      <td>51.712245</td>\n",
       "    </tr>\n",
       "    <tr>\n",
       "      <th>61</th>\n",
       "      <td>YEARS_BUILD_MODE</td>\n",
       "      <td>68.738776</td>\n",
       "    </tr>\n",
       "    <tr>\n",
       "      <th>62</th>\n",
       "      <td>COMMONAREA_MODE</td>\n",
       "      <td>71.844898</td>\n",
       "    </tr>\n",
       "    <tr>\n",
       "      <th>63</th>\n",
       "      <td>ELEVATORS_MODE</td>\n",
       "      <td>56.157143</td>\n",
       "    </tr>\n",
       "    <tr>\n",
       "      <th>64</th>\n",
       "      <td>ENTRANCES_MODE</td>\n",
       "      <td>53.242857</td>\n",
       "    </tr>\n",
       "    <tr>\n",
       "      <th>65</th>\n",
       "      <td>FLOORSMAX_MODE</td>\n",
       "      <td>52.671429</td>\n",
       "    </tr>\n",
       "    <tr>\n",
       "      <th>66</th>\n",
       "      <td>FLOORSMIN_MODE</td>\n",
       "      <td>69.938776</td>\n",
       "    </tr>\n",
       "    <tr>\n",
       "      <th>67</th>\n",
       "      <td>LANDAREA_MODE</td>\n",
       "      <td>61.661224</td>\n",
       "    </tr>\n",
       "    <tr>\n",
       "      <th>68</th>\n",
       "      <td>LIVINGAPARTMENTS_MODE</td>\n",
       "      <td>70.506122</td>\n",
       "    </tr>\n",
       "    <tr>\n",
       "      <th>69</th>\n",
       "      <td>LIVINGAREA_MODE</td>\n",
       "      <td>53.028571</td>\n",
       "    </tr>\n",
       "    <tr>\n",
       "      <th>70</th>\n",
       "      <td>NONLIVINGAPARTMENTS_MODE</td>\n",
       "      <td>71.391837</td>\n",
       "    </tr>\n",
       "    <tr>\n",
       "      <th>71</th>\n",
       "      <td>NONLIVINGAREA_MODE</td>\n",
       "      <td>57.930612</td>\n",
       "    </tr>\n",
       "    <tr>\n",
       "      <th>72</th>\n",
       "      <td>APARTMENTS_MEDI</td>\n",
       "      <td>53.626531</td>\n",
       "    </tr>\n",
       "    <tr>\n",
       "      <th>73</th>\n",
       "      <td>BASEMENTAREA_MEDI</td>\n",
       "      <td>61.059184</td>\n",
       "    </tr>\n",
       "    <tr>\n",
       "      <th>74</th>\n",
       "      <td>YEARS_BEGINEXPLUATATION_MEDI</td>\n",
       "      <td>51.712245</td>\n",
       "    </tr>\n",
       "    <tr>\n",
       "      <th>75</th>\n",
       "      <td>YEARS_BUILD_MEDI</td>\n",
       "      <td>68.738776</td>\n",
       "    </tr>\n",
       "    <tr>\n",
       "      <th>76</th>\n",
       "      <td>COMMONAREA_MEDI</td>\n",
       "      <td>71.844898</td>\n",
       "    </tr>\n",
       "    <tr>\n",
       "      <th>77</th>\n",
       "      <td>ELEVATORS_MEDI</td>\n",
       "      <td>56.157143</td>\n",
       "    </tr>\n",
       "    <tr>\n",
       "      <th>78</th>\n",
       "      <td>ENTRANCES_MEDI</td>\n",
       "      <td>53.242857</td>\n",
       "    </tr>\n",
       "    <tr>\n",
       "      <th>79</th>\n",
       "      <td>FLOORSMAX_MEDI</td>\n",
       "      <td>52.671429</td>\n",
       "    </tr>\n",
       "    <tr>\n",
       "      <th>80</th>\n",
       "      <td>FLOORSMIN_MEDI</td>\n",
       "      <td>69.938776</td>\n",
       "    </tr>\n",
       "    <tr>\n",
       "      <th>81</th>\n",
       "      <td>LANDAREA_MEDI</td>\n",
       "      <td>61.661224</td>\n",
       "    </tr>\n",
       "    <tr>\n",
       "      <th>82</th>\n",
       "      <td>LIVINGAPARTMENTS_MEDI</td>\n",
       "      <td>70.506122</td>\n",
       "    </tr>\n",
       "    <tr>\n",
       "      <th>83</th>\n",
       "      <td>LIVINGAREA_MEDI</td>\n",
       "      <td>53.028571</td>\n",
       "    </tr>\n",
       "    <tr>\n",
       "      <th>84</th>\n",
       "      <td>NONLIVINGAPARTMENTS_MEDI</td>\n",
       "      <td>71.391837</td>\n",
       "    </tr>\n",
       "    <tr>\n",
       "      <th>85</th>\n",
       "      <td>NONLIVINGAREA_MEDI</td>\n",
       "      <td>57.930612</td>\n",
       "    </tr>\n",
       "    <tr>\n",
       "      <th>86</th>\n",
       "      <td>FONDKAPREMONT_MODE</td>\n",
       "      <td>70.479592</td>\n",
       "    </tr>\n",
       "    <tr>\n",
       "      <th>87</th>\n",
       "      <td>HOUSETYPE_MODE</td>\n",
       "      <td>53.032653</td>\n",
       "    </tr>\n",
       "    <tr>\n",
       "      <th>88</th>\n",
       "      <td>TOTALAREA_MODE</td>\n",
       "      <td>51.281633</td>\n",
       "    </tr>\n",
       "    <tr>\n",
       "      <th>89</th>\n",
       "      <td>WALLSMATERIAL_MODE</td>\n",
       "      <td>53.673469</td>\n",
       "    </tr>\n",
       "    <tr>\n",
       "      <th>90</th>\n",
       "      <td>EMERGENCYSTATE_MODE</td>\n",
       "      <td>50.442857</td>\n",
       "    </tr>\n",
       "  </tbody>\n",
       "</table>\n",
       "</div>"
      ],
      "text/plain": [
       "                           index  missing_per\n",
       "21                   OWN_CAR_AGE    67.610204\n",
       "41                  EXT_SOURCE_1    57.736735\n",
       "44                APARTMENTS_AVG    53.626531\n",
       "45              BASEMENTAREA_AVG    61.059184\n",
       "46   YEARS_BEGINEXPLUATATION_AVG    51.712245\n",
       "47               YEARS_BUILD_AVG    68.738776\n",
       "48                COMMONAREA_AVG    71.844898\n",
       "49                 ELEVATORS_AVG    56.157143\n",
       "50                 ENTRANCES_AVG    53.242857\n",
       "51                 FLOORSMAX_AVG    52.671429\n",
       "52                 FLOORSMIN_AVG    69.938776\n",
       "53                  LANDAREA_AVG    61.661224\n",
       "54          LIVINGAPARTMENTS_AVG    70.506122\n",
       "55                LIVINGAREA_AVG    53.028571\n",
       "56       NONLIVINGAPARTMENTS_AVG    71.391837\n",
       "57             NONLIVINGAREA_AVG    57.930612\n",
       "58               APARTMENTS_MODE    53.626531\n",
       "59             BASEMENTAREA_MODE    61.059184\n",
       "60  YEARS_BEGINEXPLUATATION_MODE    51.712245\n",
       "61              YEARS_BUILD_MODE    68.738776\n",
       "62               COMMONAREA_MODE    71.844898\n",
       "63                ELEVATORS_MODE    56.157143\n",
       "64                ENTRANCES_MODE    53.242857\n",
       "65                FLOORSMAX_MODE    52.671429\n",
       "66                FLOORSMIN_MODE    69.938776\n",
       "67                 LANDAREA_MODE    61.661224\n",
       "68         LIVINGAPARTMENTS_MODE    70.506122\n",
       "69               LIVINGAREA_MODE    53.028571\n",
       "70      NONLIVINGAPARTMENTS_MODE    71.391837\n",
       "71            NONLIVINGAREA_MODE    57.930612\n",
       "72               APARTMENTS_MEDI    53.626531\n",
       "73             BASEMENTAREA_MEDI    61.059184\n",
       "74  YEARS_BEGINEXPLUATATION_MEDI    51.712245\n",
       "75              YEARS_BUILD_MEDI    68.738776\n",
       "76               COMMONAREA_MEDI    71.844898\n",
       "77                ELEVATORS_MEDI    56.157143\n",
       "78                ENTRANCES_MEDI    53.242857\n",
       "79                FLOORSMAX_MEDI    52.671429\n",
       "80                FLOORSMIN_MEDI    69.938776\n",
       "81                 LANDAREA_MEDI    61.661224\n",
       "82         LIVINGAPARTMENTS_MEDI    70.506122\n",
       "83               LIVINGAREA_MEDI    53.028571\n",
       "84      NONLIVINGAPARTMENTS_MEDI    71.391837\n",
       "85            NONLIVINGAREA_MEDI    57.930612\n",
       "86            FONDKAPREMONT_MODE    70.479592\n",
       "87                HOUSETYPE_MODE    53.032653\n",
       "88                TOTALAREA_MODE    51.281633\n",
       "89            WALLSMATERIAL_MODE    53.673469\n",
       "90           EMERGENCYSTATE_MODE    50.442857"
      ]
     },
     "execution_count": 18,
     "metadata": {},
     "output_type": "execute_result"
    }
   ],
   "source": [
    "missing[missing['missing_per']>40]"
   ]
  },
  {
   "cell_type": "code",
   "execution_count": 19,
   "id": "99082da2",
   "metadata": {},
   "outputs": [
    {
     "data": {
      "text/plain": [
       "'index'"
      ]
     },
     "execution_count": 19,
     "metadata": {},
     "output_type": "execute_result"
    }
   ],
   "source": [
    "missing.columns[0]"
   ]
  },
  {
   "cell_type": "code",
   "execution_count": 22,
   "id": "fce8ec73-5170-482d-9bdc-abdfdd278fc4",
   "metadata": {},
   "outputs": [],
   "source": [
    "excess_null_val=list(missing[missing['missing_per']>40].iloc[:,0])"
   ]
  },
  {
   "cell_type": "markdown",
   "id": "44da8aeb-24ec-4bfa-b7da-561af8d8ad97",
   "metadata": {},
   "source": [
    "- Feature Elimination: Columns with a high percentage of missing values—specifically, those exceeding 40%—are often less reliable and can negatively impact model performance. Eliminating these features can simplify the model and enhance its accuracy."
   ]
  },
  {
   "cell_type": "code",
   "execution_count": 23,
   "id": "6f372dc3-5f73-4628-b8c2-6fa1f854485c",
   "metadata": {},
   "outputs": [],
   "source": [
    "balanced_application.drop(columns=excess_null_val,inplace=True)"
   ]
  },
  {
   "cell_type": "code",
   "execution_count": 24,
   "id": "6be37de1-67a1-4fb5-a9d8-f5d863d7834e",
   "metadata": {},
   "outputs": [
    {
     "data": {
      "text/plain": [
       "(49000, 73)"
      ]
     },
     "execution_count": 24,
     "metadata": {},
     "output_type": "execute_result"
    }
   ],
   "source": [
    "balanced_application.shape"
   ]
  },
  {
   "cell_type": "markdown",
   "id": "8870c0af-c23e-4f6a-81ca-105227d54804",
   "metadata": {},
   "source": [
    "- Having removed the columns with more than 40% missing values, we can now address the remaining null values."
   ]
  },
  {
   "cell_type": "markdown",
   "id": "bc7fb4ac-bf66-46b4-be2a-7cdb5a27b010",
   "metadata": {},
   "source": [
    "##### Null value treatment"
   ]
  },
  {
   "cell_type": "code",
   "execution_count": 25,
   "id": "f53865b3-70c6-4693-bf93-5a657c1ff688",
   "metadata": {},
   "outputs": [],
   "source": [
    "num_col= balanced_application.select_dtypes(include=['float64','int64'])\n",
    "cat_col= balanced_application.select_dtypes(include=['object'])"
   ]
  },
  {
   "cell_type": "code",
   "execution_count": 26,
   "id": "2b23e12d-7ddc-4fce-a93a-b56f94e30b10",
   "metadata": {},
   "outputs": [],
   "source": [
    "# Function to fill missing values\n",
    "def fill_missing_values(df):\n",
    "    for column in df.columns:\n",
    "        mean_value = df[column].mean()\n",
    "        df[column] = df[column].fillna(mean_value)   \n",
    "    return df\n",
    "\n",
    "# Function to treat outliers using IQR method\n",
    "def treat_outliers(df):\n",
    "    for column in df.columns:\n",
    "        if df[column].dtype in ['int64', 'float64']:\n",
    "            Q1 = df[column].quantile(0.25)\n",
    "            Q3 = df[column].quantile(0.75)\n",
    "            IQR = Q3 - Q1\n",
    "            upper_limit = Q3 + 1.5 * IQR\n",
    "            df[column] = df[column].apply(lambda x: upper_limit if x > upper_limit else x)\n",
    "    return df\n"
   ]
  },
  {
   "cell_type": "markdown",
   "id": "bc6cd41b-2882-4e4a-941b-62d00ca7d978",
   "metadata": {},
   "source": [
    "##### Finding outliers "
   ]
  },
  {
   "cell_type": "code",
   "execution_count": 27,
   "id": "7a5e069e-29d7-440b-87a3-9ea3d7fcf364",
   "metadata": {},
   "outputs": [
    {
     "name": "stdout",
     "output_type": "stream",
     "text": [
      "Outliers:\n",
      "        SK_ID_CURR  TARGET NAME_CONTRACT_TYPE CODE_GENDER FLAG_OWN_CAR  \\\n",
      "98       347724.0     1.0         Cash loans           F            Y   \n",
      "141      194313.0     0.0    Revolving loans           F            Y   \n",
      "158      305246.0     0.0         Cash loans           M            N   \n",
      "194      421971.0     1.0         Cash loans           M            N   \n",
      "279      198338.0     0.0         Cash loans           M            N   \n",
      "...           ...     ...                ...         ...          ...   \n",
      "48584    323301.0     1.0         Cash loans           M            Y   \n",
      "48623    400553.0     1.0         Cash loans           F            N   \n",
      "48633    438374.0     0.0         Cash loans           F            N   \n",
      "48880    401749.0     1.0         Cash loans           M            N   \n",
      "48982    142775.0     0.0         Cash loans           F            N   \n",
      "\n",
      "      FLAG_OWN_REALTY  CNT_CHILDREN  AMT_INCOME_TOTAL  AMT_CREDIT  \\\n",
      "98                  Y           3.0           90000.0    788103.0   \n",
      "141                 Y           3.0          225000.0    180000.0   \n",
      "158                 Y           3.0          112500.0    113760.0   \n",
      "194                 N           3.0           90000.0    450000.0   \n",
      "279                 Y           4.0          135000.0    545040.0   \n",
      "...               ...           ...               ...         ...   \n",
      "48584               Y           2.0          135000.0    161730.0   \n",
      "48623               Y           0.0          157500.0    265500.0   \n",
      "48633               N           0.0          144000.0    768775.5   \n",
      "48880               Y           0.0          121500.0    754740.0   \n",
      "48982               N           0.0          157500.0    431280.0   \n",
      "\n",
      "       AMT_ANNUITY  ...  FLAG_DOCUMENT_18 FLAG_DOCUMENT_19 FLAG_DOCUMENT_20  \\\n",
      "98         28435.5  ...               0.0              0.0              0.0   \n",
      "141         9000.0  ...               0.0              0.0              0.0   \n",
      "158         6660.0  ...               0.0              0.0              0.0   \n",
      "194        27324.0  ...               0.0              0.0              0.0   \n",
      "279        25537.5  ...               0.0              0.0              0.0   \n",
      "...            ...  ...               ...              ...              ...   \n",
      "48584      13095.0  ...               0.0              0.0              0.0   \n",
      "48623      14530.5  ...               0.0              0.0              0.0   \n",
      "48633      22459.5  ...               0.0              0.0              0.0   \n",
      "48880      24475.5  ...               0.0              0.0              0.0   \n",
      "48982      23526.0  ...               0.0              0.0              0.0   \n",
      "\n",
      "      FLAG_DOCUMENT_21 AMT_REQ_CREDIT_BUREAU_HOUR AMT_REQ_CREDIT_BUREAU_DAY  \\\n",
      "98                 0.0                        0.0                       0.0   \n",
      "141                0.0                        NaN                       NaN   \n",
      "158                0.0                        0.0                       0.0   \n",
      "194                0.0                        0.0                       0.0   \n",
      "279                0.0                        NaN                       NaN   \n",
      "...                ...                        ...                       ...   \n",
      "48584              0.0                        0.0                       0.0   \n",
      "48623              0.0                        0.0                       0.0   \n",
      "48633              0.0                        0.0                       0.0   \n",
      "48880              0.0                        0.0                       0.0   \n",
      "48982              0.0                        0.0                       0.0   \n",
      "\n",
      "       AMT_REQ_CREDIT_BUREAU_WEEK  AMT_REQ_CREDIT_BUREAU_MON  \\\n",
      "98                            0.0                        0.0   \n",
      "141                           NaN                        NaN   \n",
      "158                           0.0                        0.0   \n",
      "194                           0.0                        0.0   \n",
      "279                           NaN                        NaN   \n",
      "...                           ...                        ...   \n",
      "48584                         0.0                        0.0   \n",
      "48623                         0.0                        1.0   \n",
      "48633                         0.0                        0.0   \n",
      "48880                         0.0                        0.0   \n",
      "48982                         1.0                        0.0   \n",
      "\n",
      "       AMT_REQ_CREDIT_BUREAU_QRT  AMT_REQ_CREDIT_BUREAU_YEAR  \n",
      "98                           0.0                         0.0  \n",
      "141                          NaN                         NaN  \n",
      "158                          0.0                         2.0  \n",
      "194                          0.0                         5.0  \n",
      "279                          NaN                         NaN  \n",
      "...                          ...                         ...  \n",
      "48584                        0.0                         8.0  \n",
      "48623                        0.0                         8.0  \n",
      "48633                        0.0                         8.0  \n",
      "48880                        1.0                         8.0  \n",
      "48982                        0.0                         8.0  \n",
      "\n",
      "[130829 rows x 73 columns]\n"
     ]
    }
   ],
   "source": [
    "# Function to find outliers\n",
    "def find_outliers(df):\n",
    "    outliers_list = []\n",
    "    for column in df.columns:\n",
    "        if df[column].dtype in ['int64', 'float64']:\n",
    "            Q1 = df[column].quantile(0.25)\n",
    "            Q3 = df[column].quantile(0.75)\n",
    "            IQR = Q3 - Q1\n",
    "            lower_limit = Q1 - 1.5 * IQR\n",
    "            upper_limit = Q3 + 1.5 * IQR\n",
    "            outliers = df[(df[column] < lower_limit) | (df[column] > upper_limit)]\n",
    "            outliers_list.append(outliers)\n",
    "    return pd.concat(outliers_list)\n",
    "\n",
    "# Find outliers\n",
    "outliers = find_outliers(balanced_application)\n",
    "print(\"Outliers:\\n\", outliers)\n"
   ]
  },
  {
   "cell_type": "markdown",
   "id": "2a67ce54-3675-417c-b3f7-a4d68ced33f8",
   "metadata": {},
   "source": [
    "##### Filling the null values"
   ]
  },
  {
   "cell_type": "code",
   "execution_count": 28,
   "id": "f56017e5-0ffb-428b-8aa1-de748f1fd61e",
   "metadata": {},
   "outputs": [],
   "source": [
    "num_col=fill_missing_values(num_col)"
   ]
  },
  {
   "cell_type": "code",
   "execution_count": 23,
   "id": "dcfa1524-8fe6-45cd-b8e1-b93083617f5b",
   "metadata": {},
   "outputs": [],
   "source": [
    "cleaned_data=pd.concat([num_col,cat_col],axis=1)"
   ]
  },
  {
   "cell_type": "markdown",
   "id": "e933681f-acc2-424c-b460-e3498b4fd264",
   "metadata": {},
   "source": [
    "##### Droping the rows with null categorical values, as their proportion is significantly high, and we will still have a sufficient number of records after this removal"
   ]
  },
  {
   "cell_type": "code",
   "execution_count": 24,
   "id": "7a34ba32-d9a5-401b-a0c7-94da9b2ab03b",
   "metadata": {},
   "outputs": [],
   "source": [
    "cleaned_data.dropna(inplace=True)"
   ]
  },
  {
   "cell_type": "code",
   "execution_count": 25,
   "id": "44f2e252-a1ca-457d-9d31-1cf0ba6dccdd",
   "metadata": {},
   "outputs": [
    {
     "data": {
      "text/plain": [
       "TARGET\n",
       "1    17870\n",
       "0    16954\n",
       "Name: count, dtype: int64"
      ]
     },
     "execution_count": 25,
     "metadata": {},
     "output_type": "execute_result"
    }
   ],
   "source": [
    "cleaned_data['TARGET'].value_counts()"
   ]
  },
  {
   "cell_type": "markdown",
   "id": "0990a834-7302-4ff1-bbea-3866221366fe",
   "metadata": {},
   "source": [
    "##### Treating outliers "
   ]
  },
  {
   "cell_type": "code",
   "execution_count": 26,
   "id": "a7b99e4b-c96c-4a6b-81ba-b9edd3e85d11",
   "metadata": {},
   "outputs": [],
   "source": [
    "cleaned_data=treat_outliers(cleaned_data)"
   ]
  },
  {
   "cell_type": "markdown",
   "id": "499e8ce3-41d7-48e2-b5a7-789e880a1fda",
   "metadata": {},
   "source": [
    "#####  Encoding categorical variables into numerical values"
   ]
  },
  {
   "cell_type": "code",
   "execution_count": 27,
   "id": "a846915a-0ca1-42d7-afb1-ae7083ff3b63",
   "metadata": {},
   "outputs": [
    {
     "name": "stdout",
     "output_type": "stream",
     "text": [
      "{'NAME_CONTRACT_TYPE': {0: 'Cash loans', 1: 'Revolving loans'}, 'CODE_GENDER': {0: 'F', 1: 'M'}, 'FLAG_OWN_CAR': {0: 'N', 1: 'Y'}, 'FLAG_OWN_REALTY': {0: 'N', 1: 'Y'}, 'NAME_TYPE_SUITE': {0: 'Children', 1: 'Family', 2: 'Group of people', 3: 'Other_A', 4: 'Other_B', 5: 'Spouse, partner', 6: 'Unaccompanied'}, 'NAME_INCOME_TYPE': {0: 'Businessman', 1: 'Commercial associate', 2: 'Maternity leave', 3: 'State servant', 4: 'Student', 5: 'Working'}, 'NAME_EDUCATION_TYPE': {0: 'Academic degree', 1: 'Higher education', 2: 'Incomplete higher', 3: 'Lower secondary', 4: 'Secondary / secondary special'}, 'NAME_FAMILY_STATUS': {0: 'Civil marriage', 1: 'Married', 2: 'Separated', 3: 'Single / not married', 4: 'Widow'}, 'NAME_HOUSING_TYPE': {0: 'Co-op apartment', 1: 'House / apartment', 2: 'Municipal apartment', 3: 'Office apartment', 4: 'Rented apartment', 5: 'With parents'}, 'OCCUPATION_TYPE': {0: 'Accountants', 1: 'Cleaning staff', 2: 'Cooking staff', 3: 'Core staff', 4: 'Drivers', 5: 'HR staff', 6: 'High skill tech staff', 7: 'IT staff', 8: 'Laborers', 9: 'Low-skill Laborers', 10: 'Managers', 11: 'Medicine staff', 12: 'Private service staff', 13: 'Realty agents', 14: 'Sales staff', 15: 'Secretaries', 16: 'Security staff', 17: 'Waiters/barmen staff'}, 'WEEKDAY_APPR_PROCESS_START': {0: 'FRIDAY', 1: 'MONDAY', 2: 'SATURDAY', 3: 'SUNDAY', 4: 'THURSDAY', 5: 'TUESDAY', 6: 'WEDNESDAY'}, 'ORGANIZATION_TYPE': {0: 'Advertising', 1: 'Agriculture', 2: 'Bank', 3: 'Business Entity Type 1', 4: 'Business Entity Type 2', 5: 'Business Entity Type 3', 6: 'Cleaning', 7: 'Construction', 8: 'Culture', 9: 'Electricity', 10: 'Emergency', 11: 'Government', 12: 'Hotel', 13: 'Housing', 14: 'Industry: type 1', 15: 'Industry: type 10', 16: 'Industry: type 11', 17: 'Industry: type 12', 18: 'Industry: type 13', 19: 'Industry: type 2', 20: 'Industry: type 3', 21: 'Industry: type 4', 22: 'Industry: type 5', 23: 'Industry: type 6', 24: 'Industry: type 7', 25: 'Industry: type 8', 26: 'Industry: type 9', 27: 'Insurance', 28: 'Kindergarten', 29: 'Legal Services', 30: 'Medicine', 31: 'Military', 32: 'Mobile', 33: 'Other', 34: 'Police', 35: 'Postal', 36: 'Realtor', 37: 'Religion', 38: 'Restaurant', 39: 'School', 40: 'Security', 41: 'Security Ministries', 42: 'Self-employed', 43: 'Services', 44: 'Telecom', 45: 'Trade: type 1', 46: 'Trade: type 2', 47: 'Trade: type 3', 48: 'Trade: type 4', 49: 'Trade: type 5', 50: 'Trade: type 6', 51: 'Trade: type 7', 52: 'Transport: type 1', 53: 'Transport: type 2', 54: 'Transport: type 3', 55: 'Transport: type 4', 56: 'University'}}\n"
     ]
    }
   ],
   "source": [
    "category_mapping = {}\n",
    "\n",
    "for col in cat_col.columns:\n",
    "    cat = pd.Categorical(cleaned_data[col])\n",
    "    cleaned_data[col] = cat.codes\n",
    "    category_mapping[col] = dict(enumerate(cat.categories))\n",
    "\n",
    "# Display the mapping of codes to categories\n",
    "print(category_mapping)\n"
   ]
  },
  {
   "cell_type": "markdown",
   "id": "d02454d7-aef0-4ea5-96a1-1ab43578a76d",
   "metadata": {},
   "source": [
    "#### Standardization of the dataset"
   ]
  },
  {
   "cell_type": "markdown",
   "id": "04c2ea49-4d84-4d2a-bf5d-d0ba94964c5f",
   "metadata": {},
   "source": [
    "- Standardizing the features in the cleaned dataset, ensuring that they have a mean of zero and a standard deviation of one.ance."
   ]
  },
  {
   "cell_type": "code",
   "execution_count": 28,
   "id": "cdccf9f7-51e0-461e-8338-d9a173961149",
   "metadata": {},
   "outputs": [],
   "source": [
    "from sklearn.preprocessing import StandardScaler\n",
    "ss=StandardScaler()"
   ]
  },
  {
   "cell_type": "code",
   "execution_count": 29,
   "id": "900b1a3d-8c84-4393-8799-0bd4536681e1",
   "metadata": {},
   "outputs": [],
   "source": [
    "cleaned_data_ss= ss.fit_transform(cleaned_data)"
   ]
  },
  {
   "cell_type": "code",
   "execution_count": 30,
   "id": "6c479f9d-213f-473e-a370-7b19324244ba",
   "metadata": {},
   "outputs": [
    {
     "data": {
      "text/html": [
       "<div>\n",
       "<style scoped>\n",
       "    .dataframe tbody tr th:only-of-type {\n",
       "        vertical-align: middle;\n",
       "    }\n",
       "\n",
       "    .dataframe tbody tr th {\n",
       "        vertical-align: top;\n",
       "    }\n",
       "\n",
       "    .dataframe thead th {\n",
       "        text-align: right;\n",
       "    }\n",
       "</style>\n",
       "<table border=\"1\" class=\"dataframe\">\n",
       "  <thead>\n",
       "    <tr style=\"text-align: right;\">\n",
       "      <th></th>\n",
       "      <th>SK_ID_CURR</th>\n",
       "      <th>TARGET</th>\n",
       "      <th>CNT_CHILDREN</th>\n",
       "      <th>AMT_INCOME_TOTAL</th>\n",
       "      <th>AMT_CREDIT</th>\n",
       "      <th>AMT_ANNUITY</th>\n",
       "      <th>AMT_GOODS_PRICE</th>\n",
       "      <th>REGION_POPULATION_RELATIVE</th>\n",
       "      <th>DAYS_BIRTH</th>\n",
       "      <th>DAYS_EMPLOYED</th>\n",
       "      <th>...</th>\n",
       "      <th>FLAG_OWN_CAR</th>\n",
       "      <th>FLAG_OWN_REALTY</th>\n",
       "      <th>NAME_TYPE_SUITE</th>\n",
       "      <th>NAME_INCOME_TYPE</th>\n",
       "      <th>NAME_EDUCATION_TYPE</th>\n",
       "      <th>NAME_FAMILY_STATUS</th>\n",
       "      <th>NAME_HOUSING_TYPE</th>\n",
       "      <th>OCCUPATION_TYPE</th>\n",
       "      <th>WEEKDAY_APPR_PROCESS_START</th>\n",
       "      <th>ORGANIZATION_TYPE</th>\n",
       "    </tr>\n",
       "  </thead>\n",
       "  <tbody>\n",
       "    <tr>\n",
       "      <th>0</th>\n",
       "      <td>-0.793556</td>\n",
       "      <td>-1.026659</td>\n",
       "      <td>0.681730</td>\n",
       "      <td>0.212408</td>\n",
       "      <td>0.620182</td>\n",
       "      <td>-0.052093</td>\n",
       "      <td>0.564108</td>\n",
       "      <td>-1.259076</td>\n",
       "      <td>-0.804648</td>\n",
       "      <td>0.685509</td>\n",
       "      <td>...</td>\n",
       "      <td>1.352715</td>\n",
       "      <td>-1.453773</td>\n",
       "      <td>0.417697</td>\n",
       "      <td>-1.589739</td>\n",
       "      <td>-1.016971</td>\n",
       "      <td>-0.365729</td>\n",
       "      <td>-0.352725</td>\n",
       "      <td>0.005654</td>\n",
       "      <td>0.421485</td>\n",
       "      <td>-1.070656</td>\n",
       "    </tr>\n",
       "    <tr>\n",
       "      <th>1</th>\n",
       "      <td>-1.045154</td>\n",
       "      <td>-1.026659</td>\n",
       "      <td>-0.686957</td>\n",
       "      <td>0.086183</td>\n",
       "      <td>-0.747735</td>\n",
       "      <td>-0.193411</td>\n",
       "      <td>-0.761623</td>\n",
       "      <td>-0.110147</td>\n",
       "      <td>0.772403</td>\n",
       "      <td>0.891713</td>\n",
       "      <td>...</td>\n",
       "      <td>-0.739254</td>\n",
       "      <td>0.687865</td>\n",
       "      <td>0.417697</td>\n",
       "      <td>-1.589739</td>\n",
       "      <td>-1.818070</td>\n",
       "      <td>1.711777</td>\n",
       "      <td>-0.352725</td>\n",
       "      <td>-0.453865</td>\n",
       "      <td>-0.976754</td>\n",
       "      <td>-0.004090</td>\n",
       "    </tr>\n",
       "  </tbody>\n",
       "</table>\n",
       "<p>2 rows × 73 columns</p>\n",
       "</div>"
      ],
      "text/plain": [
       "   SK_ID_CURR    TARGET  CNT_CHILDREN  AMT_INCOME_TOTAL  AMT_CREDIT  \\\n",
       "0   -0.793556 -1.026659      0.681730          0.212408    0.620182   \n",
       "1   -1.045154 -1.026659     -0.686957          0.086183   -0.747735   \n",
       "\n",
       "   AMT_ANNUITY  AMT_GOODS_PRICE  REGION_POPULATION_RELATIVE  DAYS_BIRTH  \\\n",
       "0    -0.052093         0.564108                   -1.259076   -0.804648   \n",
       "1    -0.193411        -0.761623                   -0.110147    0.772403   \n",
       "\n",
       "   DAYS_EMPLOYED  ...  FLAG_OWN_CAR  FLAG_OWN_REALTY  NAME_TYPE_SUITE  \\\n",
       "0       0.685509  ...      1.352715        -1.453773         0.417697   \n",
       "1       0.891713  ...     -0.739254         0.687865         0.417697   \n",
       "\n",
       "   NAME_INCOME_TYPE  NAME_EDUCATION_TYPE  NAME_FAMILY_STATUS  \\\n",
       "0         -1.589739            -1.016971           -0.365729   \n",
       "1         -1.589739            -1.818070            1.711777   \n",
       "\n",
       "   NAME_HOUSING_TYPE  OCCUPATION_TYPE  WEEKDAY_APPR_PROCESS_START  \\\n",
       "0          -0.352725         0.005654                    0.421485   \n",
       "1          -0.352725        -0.453865                   -0.976754   \n",
       "\n",
       "   ORGANIZATION_TYPE  \n",
       "0          -1.070656  \n",
       "1          -0.004090  \n",
       "\n",
       "[2 rows x 73 columns]"
      ]
     },
     "execution_count": 30,
     "metadata": {},
     "output_type": "execute_result"
    }
   ],
   "source": [
    "cleaned_data_ss=pd.DataFrame(cleaned_data_ss)\n",
    "cleaned_data_ss.columns=cleaned_data.columns\n",
    "cleaned_data_ss.head(2)"
   ]
  },
  {
   "cell_type": "markdown",
   "id": "45ac7707-cfba-4e2f-8405-856d17e25436",
   "metadata": {},
   "source": [
    "##### Now that the dataset has been cleaned, treated for outliers, balanced, encoded, and standardized, we need to select features for modeling"
   ]
  },
  {
   "cell_type": "markdown",
   "id": "aeb7d49f-a68c-4bab-8052-b7b4779a0b0e",
   "metadata": {},
   "source": [
    "### Model_1: Simple Randomforest"
   ]
  },
  {
   "cell_type": "markdown",
   "id": "fa94f9ee-0c30-4e0e-9729-3a07f474ddae",
   "metadata": {},
   "source": [
    "### Why Random Forest?\n",
    "\n",
    "- **Robustness**: Reduces overfitting by averaging multiple decision trees, making it reliable on noisy data.  \n",
    "- **Handling of High Dimensionality**: Effectively manages datasets with many features without the need for feature selection.  \n",
    "- **Interpretability**: Provides insights into feature importance, identifying influential variables in prediction  oice.  \n",
    "- **Ensemble Learning**: Combines strengths of multiple decision trees to enhance prediction accuracy and stability.  \n",
    "- **Parallel Processing**: Supports independent tree processing for computational efficiency with large datasets.  "
   ]
  },
  {
   "cell_type": "code",
   "execution_count": 31,
   "id": "6e6319fd-7ae0-4ff2-8735-85b7e4360436",
   "metadata": {},
   "outputs": [
    {
     "name": "stdout",
     "output_type": "stream",
     "text": [
      "Accuracy Score: 66.18808327351041\n",
      "\n",
      "Classification Report:\n",
      "               precision    recall  f1-score   support\n",
      "\n",
      "           0       0.65      0.66      0.66      3399\n",
      "           1       0.67      0.66      0.67      3566\n",
      "\n",
      "    accuracy                           0.66      6965\n",
      "   macro avg       0.66      0.66      0.66      6965\n",
      "weighted avg       0.66      0.66      0.66      6965\n",
      "\n"
     ]
    }
   ],
   "source": [
    "from sklearn.ensemble import RandomForestClassifier\n",
    "from sklearn.model_selection import train_test_split\n",
    "from sklearn.metrics import classification_report, accuracy_score\n",
    "\n",
    "#Feature and Target Separation: Separates features (X) from target variable (y) for proper modeling, ensuring the target is treated as a classification integer.\n",
    "X = cleaned_data_ss.drop(columns=['TARGET'])# Convert the target variable to integer type to ensure it is treated as a classification problem\n",
    "y = cleaned_data['TARGET'].astype(int)\n",
    "\n",
    "# Split the data into training and testing sets\n",
    "X_train, X_test, y_train, y_test = train_test_split(X, y, test_size=0.2, random_state=42)\n",
    "\n",
    "# Initialize the RandomForestClassifier\n",
    "model = RandomForestClassifier(random_state=42)\n",
    "\n",
    "# Train the model using all features\n",
    "model.fit(X_train, y_train)\n",
    "\n",
    "# Make predictions on the test set\n",
    "y_pred = model.predict(X_test)\n",
    "\n",
    "M1_accuracy=accuracy_score(y_test, y_pred)*100\n",
    "M1_Classification_Report=classification_report(y_test, y_pred)\n",
    "\n",
    "# Evaluate the model's performance\n",
    "print(\"Accuracy Score:\", M1_accuracy)\n",
    "print(\"\\nClassification Report:\\n\", M1_Classification_Report )\n",
    "\n"
   ]
  },
  {
   "cell_type": "markdown",
   "id": "7e00234f-7c74-4557-abe7-fd5461fba0a7",
   "metadata": {},
   "source": [
    "- Balanced Performance: The precision, recall, and F1-score for both classes (0 and 1) are fairly consistent, indicating that the model performs similarly across both categories.\n",
    "- The recall values of 0.66 for both classes suggest that the model is reasonably effective at identifying instances of both non-defaulters and defaulters.\n",
    "- Overall Accuracy: With an overall accuracy of 66%, the model demonstrates a decent predictive capability."
   ]
  },
  {
   "cell_type": "markdown",
   "id": "9591de1e-7666-443d-868a-651c26112e76",
   "metadata": {},
   "source": [
    "### Model_2: DOMAIN KNOWLEDGE (utilizing a limited set of features)"
   ]
  },
  {
   "cell_type": "code",
   "execution_count": 32,
   "id": "1f5b7730-0b8e-4485-a040-99be812cb861",
   "metadata": {},
   "outputs": [
    {
     "data": {
      "text/plain": [
       "Index(['SK_ID_CURR', 'TARGET', 'CNT_CHILDREN', 'AMT_INCOME_TOTAL',\n",
       "       'AMT_CREDIT', 'AMT_ANNUITY', 'AMT_GOODS_PRICE',\n",
       "       'REGION_POPULATION_RELATIVE', 'DAYS_BIRTH', 'DAYS_EMPLOYED',\n",
       "       'DAYS_REGISTRATION', 'DAYS_ID_PUBLISH', 'FLAG_MOBIL', 'FLAG_EMP_PHONE',\n",
       "       'FLAG_WORK_PHONE', 'FLAG_CONT_MOBILE', 'FLAG_PHONE', 'FLAG_EMAIL',\n",
       "       'CNT_FAM_MEMBERS', 'REGION_RATING_CLIENT',\n",
       "       'REGION_RATING_CLIENT_W_CITY', 'HOUR_APPR_PROCESS_START',\n",
       "       'REG_REGION_NOT_LIVE_REGION', 'REG_REGION_NOT_WORK_REGION',\n",
       "       'LIVE_REGION_NOT_WORK_REGION', 'REG_CITY_NOT_LIVE_CITY',\n",
       "       'REG_CITY_NOT_WORK_CITY', 'LIVE_CITY_NOT_WORK_CITY', 'EXT_SOURCE_2',\n",
       "       'EXT_SOURCE_3', 'OBS_30_CNT_SOCIAL_CIRCLE', 'DEF_30_CNT_SOCIAL_CIRCLE',\n",
       "       'OBS_60_CNT_SOCIAL_CIRCLE', 'DEF_60_CNT_SOCIAL_CIRCLE',\n",
       "       'DAYS_LAST_PHONE_CHANGE', 'FLAG_DOCUMENT_2', 'FLAG_DOCUMENT_3',\n",
       "       'FLAG_DOCUMENT_4', 'FLAG_DOCUMENT_5', 'FLAG_DOCUMENT_6',\n",
       "       'FLAG_DOCUMENT_7', 'FLAG_DOCUMENT_8', 'FLAG_DOCUMENT_9',\n",
       "       'FLAG_DOCUMENT_10', 'FLAG_DOCUMENT_11', 'FLAG_DOCUMENT_12',\n",
       "       'FLAG_DOCUMENT_13', 'FLAG_DOCUMENT_14', 'FLAG_DOCUMENT_15',\n",
       "       'FLAG_DOCUMENT_16', 'FLAG_DOCUMENT_17', 'FLAG_DOCUMENT_18',\n",
       "       'FLAG_DOCUMENT_19', 'FLAG_DOCUMENT_20', 'FLAG_DOCUMENT_21',\n",
       "       'AMT_REQ_CREDIT_BUREAU_HOUR', 'AMT_REQ_CREDIT_BUREAU_DAY',\n",
       "       'AMT_REQ_CREDIT_BUREAU_WEEK', 'AMT_REQ_CREDIT_BUREAU_MON',\n",
       "       'AMT_REQ_CREDIT_BUREAU_QRT', 'AMT_REQ_CREDIT_BUREAU_YEAR',\n",
       "       'NAME_CONTRACT_TYPE', 'CODE_GENDER', 'FLAG_OWN_CAR', 'FLAG_OWN_REALTY',\n",
       "       'NAME_TYPE_SUITE', 'NAME_INCOME_TYPE', 'NAME_EDUCATION_TYPE',\n",
       "       'NAME_FAMILY_STATUS', 'NAME_HOUSING_TYPE', 'OCCUPATION_TYPE',\n",
       "       'WEEKDAY_APPR_PROCESS_START', 'ORGANIZATION_TYPE'],\n",
       "      dtype='object')"
      ]
     },
     "execution_count": 32,
     "metadata": {},
     "output_type": "execute_result"
    }
   ],
   "source": [
    "cleaned_data.columns"
   ]
  },
  {
   "cell_type": "code",
   "execution_count": 33,
   "id": "681e186a-a2a3-4dda-a20d-5ac3eab713b7",
   "metadata": {},
   "outputs": [],
   "source": [
    "data_2_cleaned= cleaned_data[['TARGET', 'AMT_INCOME_TOTAL','AMT_CREDIT', 'AMT_ANNUITY', 'AMT_GOODS_PRICE', 'DAYS_BIRTH', 'DAYS_EMPLOYED',\n",
    "                                'DAYS_REGISTRATION', 'REGION_RATING_CLIENT','REGION_RATING_CLIENT_W_CITY','NAME_CONTRACT_TYPE', 'CODE_GENDER', \n",
    "                                  'FLAG_OWN_CAR', 'FLAG_OWN_REALTY','NAME_TYPE_SUITE', 'NAME_INCOME_TYPE','NAME_EDUCATION_TYPE','NAME_FAMILY_STATUS',\n",
    "                                  'NAME_HOUSING_TYPE', 'OCCUPATION_TYPE','WEEKDAY_APPR_PROCESS_START','ORGANIZATION_TYPE']]"
   ]
  },
  {
   "cell_type": "code",
   "execution_count": 34,
   "id": "5c1f96ad-943f-4001-837d-eef8fc896d69",
   "metadata": {},
   "outputs": [],
   "source": [
    "data_2_cleaned_ss= ss.fit_transform(data_2_cleaned)\n",
    "data_2_cleaned_ss=pd.DataFrame(data_2_cleaned_ss)"
   ]
  },
  {
   "cell_type": "code",
   "execution_count": 35,
   "id": "6c500946-424c-4c30-b177-f60711f8dead",
   "metadata": {},
   "outputs": [],
   "source": [
    "data_2_cleaned_ss.columns=data_2_cleaned.columns\n",
    "data_2_cleaned_ss.drop(columns='TARGET',inplace=True)"
   ]
  },
  {
   "cell_type": "code",
   "execution_count": 36,
   "id": "32f7a9a1-bf24-4efd-a339-c67b7368951f",
   "metadata": {},
   "outputs": [
    {
     "data": {
      "text/html": [
       "<div>\n",
       "<style scoped>\n",
       "    .dataframe tbody tr th:only-of-type {\n",
       "        vertical-align: middle;\n",
       "    }\n",
       "\n",
       "    .dataframe tbody tr th {\n",
       "        vertical-align: top;\n",
       "    }\n",
       "\n",
       "    .dataframe thead th {\n",
       "        text-align: right;\n",
       "    }\n",
       "</style>\n",
       "<table border=\"1\" class=\"dataframe\">\n",
       "  <thead>\n",
       "    <tr style=\"text-align: right;\">\n",
       "      <th></th>\n",
       "      <th>AMT_INCOME_TOTAL</th>\n",
       "      <th>AMT_CREDIT</th>\n",
       "      <th>AMT_ANNUITY</th>\n",
       "      <th>AMT_GOODS_PRICE</th>\n",
       "      <th>DAYS_BIRTH</th>\n",
       "      <th>DAYS_EMPLOYED</th>\n",
       "      <th>DAYS_REGISTRATION</th>\n",
       "      <th>REGION_RATING_CLIENT</th>\n",
       "      <th>REGION_RATING_CLIENT_W_CITY</th>\n",
       "      <th>NAME_CONTRACT_TYPE</th>\n",
       "      <th>...</th>\n",
       "      <th>FLAG_OWN_CAR</th>\n",
       "      <th>FLAG_OWN_REALTY</th>\n",
       "      <th>NAME_TYPE_SUITE</th>\n",
       "      <th>NAME_INCOME_TYPE</th>\n",
       "      <th>NAME_EDUCATION_TYPE</th>\n",
       "      <th>NAME_FAMILY_STATUS</th>\n",
       "      <th>NAME_HOUSING_TYPE</th>\n",
       "      <th>OCCUPATION_TYPE</th>\n",
       "      <th>WEEKDAY_APPR_PROCESS_START</th>\n",
       "      <th>ORGANIZATION_TYPE</th>\n",
       "    </tr>\n",
       "  </thead>\n",
       "  <tbody>\n",
       "    <tr>\n",
       "      <th>0</th>\n",
       "      <td>0.212408</td>\n",
       "      <td>0.620182</td>\n",
       "      <td>-0.052093</td>\n",
       "      <td>0.564108</td>\n",
       "      <td>-0.804648</td>\n",
       "      <td>0.685509</td>\n",
       "      <td>0.460497</td>\n",
       "      <td>0.307144</td>\n",
       "      <td>0.318868</td>\n",
       "      <td>-0.308374</td>\n",
       "      <td>...</td>\n",
       "      <td>1.352715</td>\n",
       "      <td>-1.453773</td>\n",
       "      <td>0.417697</td>\n",
       "      <td>-1.589739</td>\n",
       "      <td>-1.016971</td>\n",
       "      <td>-0.365729</td>\n",
       "      <td>-0.352725</td>\n",
       "      <td>0.005654</td>\n",
       "      <td>0.421485</td>\n",
       "      <td>-1.070656</td>\n",
       "    </tr>\n",
       "    <tr>\n",
       "      <th>1</th>\n",
       "      <td>0.086183</td>\n",
       "      <td>-0.747735</td>\n",
       "      <td>-0.193411</td>\n",
       "      <td>-0.761623</td>\n",
       "      <td>0.772403</td>\n",
       "      <td>0.891713</td>\n",
       "      <td>1.003478</td>\n",
       "      <td>0.307144</td>\n",
       "      <td>0.318868</td>\n",
       "      <td>-0.308374</td>\n",
       "      <td>...</td>\n",
       "      <td>-0.739254</td>\n",
       "      <td>0.687865</td>\n",
       "      <td>0.417697</td>\n",
       "      <td>-1.589739</td>\n",
       "      <td>-1.818070</td>\n",
       "      <td>1.711777</td>\n",
       "      <td>-0.352725</td>\n",
       "      <td>-0.453865</td>\n",
       "      <td>-0.976754</td>\n",
       "      <td>-0.004090</td>\n",
       "    </tr>\n",
       "    <tr>\n",
       "      <th>2</th>\n",
       "      <td>-0.418715</td>\n",
       "      <td>2.441275</td>\n",
       "      <td>0.996639</td>\n",
       "      <td>2.374515</td>\n",
       "      <td>0.376550</td>\n",
       "      <td>0.631962</td>\n",
       "      <td>0.063593</td>\n",
       "      <td>0.307144</td>\n",
       "      <td>0.318868</td>\n",
       "      <td>-0.308374</td>\n",
       "      <td>...</td>\n",
       "      <td>1.352715</td>\n",
       "      <td>-1.453773</td>\n",
       "      <td>-0.171778</td>\n",
       "      <td>0.689104</td>\n",
       "      <td>0.585227</td>\n",
       "      <td>-0.365729</td>\n",
       "      <td>-0.352725</td>\n",
       "      <td>-0.453865</td>\n",
       "      <td>-0.510675</td>\n",
       "      <td>-1.070656</td>\n",
       "    </tr>\n",
       "    <tr>\n",
       "      <th>3</th>\n",
       "      <td>-0.418715</td>\n",
       "      <td>-0.226425</td>\n",
       "      <td>1.985159</td>\n",
       "      <td>-0.191416</td>\n",
       "      <td>-0.430634</td>\n",
       "      <td>0.793543</td>\n",
       "      <td>1.033451</td>\n",
       "      <td>0.307144</td>\n",
       "      <td>0.318868</td>\n",
       "      <td>-0.308374</td>\n",
       "      <td>...</td>\n",
       "      <td>-0.739254</td>\n",
       "      <td>-1.453773</td>\n",
       "      <td>0.417697</td>\n",
       "      <td>0.689104</td>\n",
       "      <td>0.585227</td>\n",
       "      <td>1.711777</td>\n",
       "      <td>-0.352725</td>\n",
       "      <td>-0.913383</td>\n",
       "      <td>0.421485</td>\n",
       "      <td>1.006342</td>\n",
       "    </tr>\n",
       "    <tr>\n",
       "      <th>4</th>\n",
       "      <td>1.790215</td>\n",
       "      <td>1.914886</td>\n",
       "      <td>0.764650</td>\n",
       "      <td>1.234101</td>\n",
       "      <td>-0.739133</td>\n",
       "      <td>0.078171</td>\n",
       "      <td>-1.184854</td>\n",
       "      <td>0.307144</td>\n",
       "      <td>0.318868</td>\n",
       "      <td>-0.308374</td>\n",
       "      <td>...</td>\n",
       "      <td>-0.739254</td>\n",
       "      <td>0.687865</td>\n",
       "      <td>0.417697</td>\n",
       "      <td>0.689104</td>\n",
       "      <td>0.585227</td>\n",
       "      <td>-0.365729</td>\n",
       "      <td>-0.352725</td>\n",
       "      <td>0.005654</td>\n",
       "      <td>1.353644</td>\n",
       "      <td>1.006342</td>\n",
       "    </tr>\n",
       "  </tbody>\n",
       "</table>\n",
       "<p>5 rows × 21 columns</p>\n",
       "</div>"
      ],
      "text/plain": [
       "   AMT_INCOME_TOTAL  AMT_CREDIT  AMT_ANNUITY  AMT_GOODS_PRICE  DAYS_BIRTH  \\\n",
       "0          0.212408    0.620182    -0.052093         0.564108   -0.804648   \n",
       "1          0.086183   -0.747735    -0.193411        -0.761623    0.772403   \n",
       "2         -0.418715    2.441275     0.996639         2.374515    0.376550   \n",
       "3         -0.418715   -0.226425     1.985159        -0.191416   -0.430634   \n",
       "4          1.790215    1.914886     0.764650         1.234101   -0.739133   \n",
       "\n",
       "   DAYS_EMPLOYED  DAYS_REGISTRATION  REGION_RATING_CLIENT  \\\n",
       "0       0.685509           0.460497              0.307144   \n",
       "1       0.891713           1.003478              0.307144   \n",
       "2       0.631962           0.063593              0.307144   \n",
       "3       0.793543           1.033451              0.307144   \n",
       "4       0.078171          -1.184854              0.307144   \n",
       "\n",
       "   REGION_RATING_CLIENT_W_CITY  NAME_CONTRACT_TYPE  ...  FLAG_OWN_CAR  \\\n",
       "0                     0.318868           -0.308374  ...      1.352715   \n",
       "1                     0.318868           -0.308374  ...     -0.739254   \n",
       "2                     0.318868           -0.308374  ...      1.352715   \n",
       "3                     0.318868           -0.308374  ...     -0.739254   \n",
       "4                     0.318868           -0.308374  ...     -0.739254   \n",
       "\n",
       "   FLAG_OWN_REALTY  NAME_TYPE_SUITE  NAME_INCOME_TYPE  NAME_EDUCATION_TYPE  \\\n",
       "0        -1.453773         0.417697         -1.589739            -1.016971   \n",
       "1         0.687865         0.417697         -1.589739            -1.818070   \n",
       "2        -1.453773        -0.171778          0.689104             0.585227   \n",
       "3        -1.453773         0.417697          0.689104             0.585227   \n",
       "4         0.687865         0.417697          0.689104             0.585227   \n",
       "\n",
       "   NAME_FAMILY_STATUS  NAME_HOUSING_TYPE  OCCUPATION_TYPE  \\\n",
       "0           -0.365729          -0.352725         0.005654   \n",
       "1            1.711777          -0.352725        -0.453865   \n",
       "2           -0.365729          -0.352725        -0.453865   \n",
       "3            1.711777          -0.352725        -0.913383   \n",
       "4           -0.365729          -0.352725         0.005654   \n",
       "\n",
       "   WEEKDAY_APPR_PROCESS_START  ORGANIZATION_TYPE  \n",
       "0                    0.421485          -1.070656  \n",
       "1                   -0.976754          -0.004090  \n",
       "2                   -0.510675          -1.070656  \n",
       "3                    0.421485           1.006342  \n",
       "4                    1.353644           1.006342  \n",
       "\n",
       "[5 rows x 21 columns]"
      ]
     },
     "execution_count": 36,
     "metadata": {},
     "output_type": "execute_result"
    }
   ],
   "source": [
    "data_2_cleaned_ss.head()"
   ]
  },
  {
   "cell_type": "code",
   "execution_count": 37,
   "id": "7d96a40a-8366-4e64-baa1-8200331bdff7",
   "metadata": {},
   "outputs": [
    {
     "name": "stdout",
     "output_type": "stream",
     "text": [
      "Accuracy Score: 60.94759511844939\n",
      "\n",
      "Classification Report:\n",
      "               precision    recall  f1-score   support\n",
      "\n",
      "           0       0.60      0.59      0.60      3399\n",
      "           1       0.62      0.63      0.62      3566\n",
      "\n",
      "    accuracy                           0.61      6965\n",
      "   macro avg       0.61      0.61      0.61      6965\n",
      "weighted avg       0.61      0.61      0.61      6965\n",
      "\n"
     ]
    }
   ],
   "source": [
    "# Separate features (X) and target (y)\n",
    "X2 = data_2_cleaned_ss\n",
    "y2 = cleaned_data['TARGET'].astype(int)\n",
    "\n",
    "# Split the data into training and testing sets\n",
    "X2_train, X2_test, y2_train, y2_test = train_test_split(X2, y2, test_size=0.2, random_state=42)\n",
    "\n",
    "# Initialize the RandomForestClassifier\n",
    "model_2nd = RandomForestClassifier(random_state=42)\n",
    "\n",
    "# Train the model using all features\n",
    "model_2nd.fit(X2_train, y2_train)\n",
    "\n",
    "# Make predictions on the test set\n",
    "y2_pred = model_2nd.predict(X2_test)\n",
    "\n",
    "M2_accuracy= accuracy_score(y2_test, y2_pred)*100\n",
    "M2_classification_report=classification_report(y2_test, y2_pred)\n",
    "# Evaluate the model's performance\n",
    "print(\"Accuracy Score:\",M2_accuracy)\n",
    "print(\"\\nClassification Report:\\n\", M2_classification_report)\n"
   ]
  },
  {
   "cell_type": "markdown",
   "id": "28380e46-8a7e-4d92-a3e8-baa3dfead8ef",
   "metadata": {},
   "source": [
    "- Balanced Metrics: The precision, recall, and F1-scores are relatively balanced across both classes, indicating consistent performance.\n",
    "- With an overall accuracy of 61%, there is potential for enhancement. "
   ]
  },
  {
   "cell_type": "markdown",
   "id": "f243a651-ccb9-4767-a86c-33055b6ffea1",
   "metadata": {},
   "source": [
    "### Model_3: Focus on the top correlated columns"
   ]
  },
  {
   "cell_type": "code",
   "execution_count": 38,
   "id": "02603578-e912-4f2f-ba9a-4a72d8a8ae73",
   "metadata": {},
   "outputs": [
    {
     "name": "stdout",
     "output_type": "stream",
     "text": [
      "Top 20 Features Correlated with the Target Variable:\n",
      " TARGET                         1.000000\n",
      "DAYS_EMPLOYED                  0.149020\n",
      "NAME_EDUCATION_TYPE            0.128297\n",
      "DAYS_BIRTH                     0.114407\n",
      "DAYS_LAST_PHONE_CHANGE         0.111473\n",
      "REGION_RATING_CLIENT_W_CITY    0.089177\n",
      "REGION_RATING_CLIENT           0.085662\n",
      "CODE_GENDER                    0.085449\n",
      "FLAG_DOCUMENT_3                0.080733\n",
      "DAYS_ID_PUBLISH                0.072704\n",
      "REG_CITY_NOT_WORK_CITY         0.072297\n",
      "NAME_INCOME_TYPE               0.070927\n",
      "DAYS_REGISTRATION              0.065215\n",
      "NAME_HOUSING_TYPE              0.049060\n",
      "OCCUPATION_TYPE                0.040917\n",
      "FLAG_WORK_PHONE                0.036897\n",
      "AMT_REQ_CREDIT_BUREAU_YEAR     0.036303\n",
      "OBS_60_CNT_SOCIAL_CIRCLE       0.017700\n",
      "OBS_30_CNT_SOCIAL_CIRCLE       0.017525\n",
      "NAME_TYPE_SUITE                0.013057\n",
      "Name: TARGET, dtype: float64\n"
     ]
    },
    {
     "data": {
      "text/plain": [
       "<Axes: >"
      ]
     },
     "execution_count": 38,
     "metadata": {},
     "output_type": "execute_result"
    },
    {
     "data": {
      "image/png": "[encoded data removed]",
      "text/plain": [
       "<Figure size 640x480 with 2 Axes>"
      ]
     },
     "metadata": {},
     "output_type": "display_data"
    }
   ],
   "source": [
    "# Calculate the correlation matrix for the cleaned dataset\n",
    "correlation_matrix = cleaned_data_ss.corr()\n",
    "\n",
    "# Get the correlation of each feature with the target variable\n",
    "target_correlation = correlation_matrix['TARGET'].sort_values(ascending=False)\n",
    "\n",
    "# Display the top 20 most correlated features with the target variable\n",
    "print(\"Top 20 Features Correlated with the Target Variable:\\n\", target_correlation.head(20))\n",
    "\n",
    "sns.heatmap(data=correlation_matrix.head(20))"
   ]
  },
  {
   "cell_type": "code",
   "execution_count": 39,
   "id": "9e7d6f5b-5ed2-4b37-850c-2ca121cd9baa",
   "metadata": {},
   "outputs": [],
   "source": [
    "keep_col=list(target_correlation.reset_index().head(20).iloc[:,0])"
   ]
  },
  {
   "cell_type": "code",
   "execution_count": 40,
   "id": "ae8506b8-f6a0-49fe-b87c-01d1b5491698",
   "metadata": {},
   "outputs": [],
   "source": [
    "data_3_cleaned= cleaned_data[keep_col]"
   ]
  },
  {
   "cell_type": "code",
   "execution_count": 41,
   "id": "584ff358-8520-4260-932b-b5a43baade67",
   "metadata": {},
   "outputs": [],
   "source": [
    "data_3_cleaned_ss= ss.fit_transform(data_3_cleaned)\n",
    "data_3_cleaned_ss=pd.DataFrame(data_3_cleaned_ss)"
   ]
  },
  {
   "cell_type": "code",
   "execution_count": 42,
   "id": "4c327feb-d411-4226-80e0-07a3b30139bd",
   "metadata": {},
   "outputs": [],
   "source": [
    "data_3_cleaned_ss.columns=data_3_cleaned.columns\n",
    "data_3_cleaned_ss.drop(columns='TARGET',inplace=True)"
   ]
  },
  {
   "cell_type": "code",
   "execution_count": 43,
   "id": "f1e27e6d-b24b-4dc1-8899-283cb0231280",
   "metadata": {},
   "outputs": [
    {
     "name": "stdout",
     "output_type": "stream",
     "text": [
      "Accuracy Score: 60.545585068198136\n",
      "\n",
      "Classification Report:\n",
      "               precision    recall  f1-score   support\n",
      "\n",
      "           0       0.60      0.59      0.59      3399\n",
      "           1       0.61      0.62      0.62      3566\n",
      "\n",
      "    accuracy                           0.61      6965\n",
      "   macro avg       0.61      0.60      0.61      6965\n",
      "weighted avg       0.61      0.61      0.61      6965\n",
      "\n"
     ]
    }
   ],
   "source": [
    "# Separate features (X) and target (y)\n",
    "X3 = data_3_cleaned_ss\n",
    "y3 = cleaned_data['TARGET'].astype(int)\n",
    "\n",
    "# Split the data into training and testing sets\n",
    "X3_train, X3_test, y3_train, y3_test = train_test_split(X3, y3, test_size=0.2, random_state=42)\n",
    "\n",
    "# Initialize the RandomForestClassifier\n",
    "model_3rd = RandomForestClassifier(random_state=42)\n",
    "\n",
    "# Train the model using all features\n",
    "model_3rd.fit(X3_train, y3_train)\n",
    "\n",
    "# Make predictions on the test set\n",
    "y3_pred = model_3rd.predict(X3_test)\n",
    "\n",
    "M3_accuracy=accuracy_score(y3_test, y3_pred)*100\n",
    "M3_classification_report= classification_report(y3_test, y3_pred)\n",
    "\n",
    "# Evaluate the model's performance\n",
    "print(\"Accuracy Score:\", M3_accuracy)\n",
    "print(\"\\nClassification Report:\\n\",M3_classification_report)\n"
   ]
  },
  {
   "cell_type": "markdown",
   "id": "9995f2d4-fc26-452e-9d0c-ff7567f89049",
   "metadata": {},
   "source": [
    "- Balanced Metrics: The performance metrics for both classes are fairly consistent, indicating a balanced model.\n",
    "-  With an overall accuracy of 61%, there is potential for enhancement."
   ]
  },
  {
   "cell_type": "markdown",
   "id": "e4f50c79-413c-44df-aee1-bc411dd2bdad",
   "metadata": {},
   "source": [
    "- The best Random Forest model is the first one, which utilizes all the available features. Although all the 3 models still needs improvement."
   ]
  },
  {
   "cell_type": "markdown",
   "id": "720a8de3-aefc-4405-a4c8-171838ee7546",
   "metadata": {},
   "source": [
    "### Model_4: GRIDsearch + Random Forest\n"
   ]
  },
  {
   "cell_type": "code",
   "execution_count": 44,
   "id": "dd16abe1-51e9-43bd-9e0c-eb36e5f28f3f",
   "metadata": {},
   "outputs": [
    {
     "name": "stdout",
     "output_type": "stream",
     "text": [
      "Accuracy Score: 66.18808327351041\n",
      "\n",
      "Classification Report:\n",
      "               precision    recall  f1-score   support\n",
      "\n",
      "           0       0.65      0.66      0.66      3399\n",
      "           1       0.67      0.66      0.67      3566\n",
      "\n",
      "    accuracy                           0.66      6965\n",
      "   macro avg       0.66      0.66      0.66      6965\n",
      "weighted avg       0.66      0.66      0.66      6965\n",
      "\n"
     ]
    }
   ],
   "source": [
    "from sklearn.model_selection import GridSearchCV, train_test_split\n",
    "from sklearn.ensemble import RandomForestClassifier\n",
    "from sklearn.metrics import classification_report, accuracy_score\n",
    "\n",
    "X4_train, X4_test, y4_train, y4_test = train_test_split(X, y, test_size=0.2, random_state=42)\n",
    "\n",
    "grid_search = GridSearchCV(estimator=RandomForestClassifier(random_state=42), param_grid={})\n",
    "grid_search.fit(X4_train, y4_train)\n",
    "\n",
    "best_model = grid_search.best_estimator_\n",
    "\n",
    "y4_pred = best_model.predict(X4_test)\n",
    "\n",
    "M4_accuracy = accuracy_score(y4_test, y4_pred) * 100\n",
    "M4_classification_report=classification_report(y4_test, y4_pred)\n",
    "\n",
    "print(\"Accuracy Score:\", M4_accuracy)\n",
    "print(\"\\nClassification Report:\\n\",M4_classification_report )\n"
   ]
  },
  {
   "cell_type": "markdown",
   "id": "a7636017-4c41-4705-b6a6-5d511c4df342",
   "metadata": {},
   "source": [
    "- Accuracy: The model achieved an accuracy score of approximately 66.19%, indicating that about two-thirds of the predictions are correct.\n",
    "- precision, recall, and F1 score are all 0.66, suggesting balanced performance across both classes without being influenced by class size."
   ]
  },
  {
   "cell_type": "markdown",
   "id": "a90d9fc5-e4fa-4f2c-8fd5-e9e124aa82f0",
   "metadata": {},
   "source": [
    "## Model_5:  Random forest + PCA  "
   ]
  },
  {
   "cell_type": "code",
   "execution_count": 45,
   "id": "da388f43-85fb-4df9-bd82-24232a6a2d79",
   "metadata": {},
   "outputs": [
    {
     "name": "stdout",
     "output_type": "stream",
     "text": [
      "Number of components chosen by PCA: 33\n",
      "Accuracy Score: 64.86719310839914\n",
      "\n",
      "Classification Report:\n",
      "               precision    recall  f1-score   support\n",
      "\n",
      "           0       0.64      0.65      0.64      3399\n",
      "           1       0.66      0.65      0.66      3566\n",
      "\n",
      "    accuracy                           0.65      6965\n",
      "   macro avg       0.65      0.65      0.65      6965\n",
      "weighted avg       0.65      0.65      0.65      6965\n",
      "\n"
     ]
    }
   ],
   "source": [
    "from sklearn.decomposition import PCA\n",
    "from sklearn.ensemble import RandomForestClassifier\n",
    "from sklearn.model_selection import train_test_split\n",
    "from sklearn.metrics import classification_report, accuracy_score\n",
    "from sklearn.preprocessing import StandardScaler\n",
    "\n",
    "scaler = StandardScaler()\n",
    "X_scaled = scaler.fit_transform(X)  # X is your feature matrix without the target variable\n",
    "\n",
    "# Let's retain enough components to explain 95% of the variance in the data\n",
    "pca = PCA(n_components=0.95)  # This means we'll keep enough components to explain 95% of the variance\n",
    "X_pca = pca.fit_transform(X_scaled)\n",
    "\n",
    "# Check how many components were chosen\n",
    "print(f'Number of components chosen by PCA: {X_pca.shape[1]}')\n",
    "\n",
    "X5_train_pca, X5_test_pca, y5_train, y5_test = train_test_split(X_pca, y, test_size=0.2, random_state=42)\n",
    "\n",
    "model_pca = RandomForestClassifier(random_state=42)\n",
    "\n",
    "model_pca.fit(X5_train_pca, y5_train)\n",
    "\n",
    "y5_pred_pca = model_pca.predict(X5_test_pca)\n",
    "\n",
    "\n",
    "M5_accuracy = accuracy_score(y5_test, y5_pred_pca) * 100\n",
    "M5_classification_report=classification_report(y5_test, y5_pred_pca)\n",
    "\n",
    "\n",
    "print(\"Accuracy Score:\", M5_accuracy)\n",
    "print(\"\\nClassification Report:\\n\", M5_classification_report)\n"
   ]
  },
  {
   "cell_type": "markdown",
   "id": "dea157a8-c9f3-44b0-8845-2450e75a33dc",
   "metadata": {},
   "source": [
    "- 33 components were chosen by PCA, indicating a significant reduction in dimensionality while retaining essential features.\n",
    "- Accuracy: The model achieved an accuracy score of approximately 64.87%, suggesting that around 65% of the predictions are correct.\n",
    "- Precision and recall values indicatE balanced prediction capabilities for both classes."
   ]
  },
  {
   "cell_type": "markdown",
   "id": "e6820c1f-606a-40ec-a26f-0b083d41aec2",
   "metadata": {},
   "source": [
    "### Model_6: Logistic+pca"
   ]
  },
  {
   "cell_type": "code",
   "execution_count": 46,
   "id": "9d98a226-fcec-4153-ab6a-d86ba9307ae9",
   "metadata": {},
   "outputs": [
    {
     "name": "stdout",
     "output_type": "stream",
     "text": [
      "Number of components chosen by PCA: 33\n",
      "Accuracy Score: 66.5470208183776\n",
      "\n",
      "Classification Report:\n",
      "               precision    recall  f1-score   support\n",
      "\n",
      "           0       0.66      0.65      0.65      3399\n",
      "           1       0.67      0.68      0.68      3566\n",
      "\n",
      "    accuracy                           0.67      6965\n",
      "   macro avg       0.67      0.67      0.67      6965\n",
      "weighted avg       0.67      0.67      0.67      6965\n",
      "\n"
     ]
    }
   ],
   "source": [
    "from sklearn.decomposition import PCA\n",
    "from sklearn.linear_model import LogisticRegression\n",
    "from sklearn.model_selection import train_test_split\n",
    "from sklearn.metrics import classification_report, accuracy_score\n",
    "from sklearn.preprocessing import StandardScaler\n",
    "\n",
    "scaler = StandardScaler()\n",
    "X_scaled = scaler.fit_transform(X)  # X is your feature matrix without the target variable\n",
    "\n",
    "# Set the number of components to explain a certain percentage of variance, e.g., 95%\n",
    "pca = PCA(n_components=0.95)\n",
    "X_pca = pca.fit_transform(X_scaled)\n",
    "\n",
    "print(f'Number of components chosen by PCA: {X_pca.shape[1]}')\n",
    "\n",
    "X6_train_pca, X6_test_pca, y6_train, y6_test = train_test_split(X_pca, y, test_size=0.2, random_state=42)\n",
    "\n",
    "logistic_model = LogisticRegression(random_state=42, max_iter=1000)\n",
    "\n",
    "logistic_model.fit(X6_train_pca, y6_train)\n",
    "\n",
    "y6_pred_pca = logistic_model.predict(X6_test_pca)\n",
    "\n",
    "\n",
    "M6_accuracy = accuracy_score(y6_test, y6_pred_pca)*100\n",
    "M6_classification_report=classification_report(y6_test, y6_pred_pca)\n",
    "\n",
    "\n",
    "print(\"Accuracy Score:\", M6_accuracy)\n",
    "print(\"\\nClassification Report:\\n\", M6_classification_report)\n"
   ]
  },
  {
   "cell_type": "markdown",
   "id": "040b4693-a416-4f33-8b17-3b8ee3017476",
   "metadata": {},
   "source": [
    "- 33 components were selected by PCA, indicating effective dimensionality reduction while retaining essential information.\n",
    "- The model achieved an accuracy score of approximately 66.55%, indicating that about two-thirds of the predictions are correct.\n",
    "- The macro averages for precision, recall, and F1 score are all 0.67, indicating balanced performance across both classes.\n"
   ]
  },
  {
   "cell_type": "code",
   "execution_count": 47,
   "id": "398402e1-813d-4598-a40a-eb43f78fc0d6",
   "metadata": {},
   "outputs": [
    {
     "name": "stdout",
     "output_type": "stream",
     "text": [
      "Model_1 : Accuracy Score: 66.18808327351041\n",
      "Model_2 : Accuracy Score: 60.94759511844939\n",
      "Model_3 : Accuracy Score: 60.545585068198136\n",
      "Model_4 : Accuracy Score: 66.18808327351041\n",
      "Model_5 : Accuracy Score: 64.86719310839914\n",
      "Model_6 : Accuracy Score: 66.5470208183776\n"
     ]
    }
   ],
   "source": [
    "print(\"Model_1 : Accuracy Score:\", M1_accuracy)\n",
    "print(\"Model_2 : Accuracy Score:\", M2_accuracy)\n",
    "print(\"Model_3 : Accuracy Score:\", M3_accuracy)\n",
    "print(\"Model_4 : Accuracy Score:\", M4_accuracy)\n",
    "print(\"Model_5 : Accuracy Score:\", M5_accuracy)\n",
    "print(\"Model_6 : Accuracy Score:\", M6_accuracy)\n"
   ]
  },
  {
   "cell_type": "markdown",
   "id": "21de589c-cc0f-42ac-9fa6-552c7f6d33fd",
   "metadata": {},
   "source": [
    "### The most optimal choice for prediction is using Logistic Regression combined with PCA, which achieves the highest accuracy.\n",
    "\n",
    "\n",
    "\n"
   ]
  },
  {
   "cell_type": "code",
   "execution_count": null,
   "id": "7a2d6ed5-d059-4781-aa4f-f3cfa6df421f",
   "metadata": {},
   "outputs": [],
   "source": []
  },
  {
   "cell_type": "code",
   "execution_count": null,
   "id": "53253b87-f6ff-4c70-921c-108e85570569",
   "metadata": {},
   "outputs": [],
   "source": []
  }
 ],
 "metadata": {
  "kernelspec": {
   "display_name": "Python 3",
   "language": "python",
   "name": "python3"
  },
  "language_info": {
   "codemirror_mode": {
    "name": "ipython",
    "version": 3
   },
   "file_extension": ".py",
   "mimetype": "text/x-python",
   "name": "python",
   "nbconvert_exporter": "python",
   "pygments_lexer": "ipython3",
   "version": "3.11.7"
  }
 },
 "nbformat": 4,
 "nbformat_minor": 5
}
